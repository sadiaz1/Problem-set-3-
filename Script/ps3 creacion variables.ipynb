{
 "cells": [
  {
   "cell_type": "code",
   "execution_count": 17,
   "metadata": {},
   "outputs": [],
   "source": [
    "import pandas as pd\n",
    "import osmnx as ox\n",
    "import pandas as pd\n",
    "from geopy.distance import geodesic"
   ]
  },
  {
   "cell_type": "code",
   "execution_count": 4,
   "metadata": {},
   "outputs": [],
   "source": [
    "os.chdir(r\"C:\\Users\\dsala\\Downloads\")"
   ]
  },
  {
   "cell_type": "code",
   "execution_count": 7,
   "metadata": {},
   "outputs": [],
   "source": [
    "train=pd.read_csv(\"train_barrios.csv\")\n",
    "test=pd.read_csv(\"test_barrios.csv\")"
   ]
  },
  {
   "cell_type": "code",
   "execution_count": null,
   "metadata": {},
   "outputs": [
    {
     "name": "stderr",
     "output_type": "stream",
     "text": [
      "C:\\Users\\dsala\\AppData\\Local\\Temp\\ipykernel_3984\\3720497210.py:2: FutureWarning: The `utils.config` function is deprecated and will be removed in the v2.0.0 release. Instead, use the `settings` module directly to configure a global setting's value. For example, `ox.settings.log_console=True`. See the OSMnx v2 migration guide: https://github.com/gboeing/osmnx/issues/1123\n",
      "  ox.config(use_cache=True, log_console=True)\n",
      "C:\\Users\\dsala\\AppData\\Local\\Temp\\ipykernel_3984\\3720497210.py:9: FutureWarning: The `geometries` module and `geometries_from_X` functions have been renamed the `features` module and `features_from_X` functions. Use these instead. The `geometries` module and function names are deprecated and will be removed in the v2.0.0 release. See the OSMnx v2 migration guide: https://github.com/gboeing/osmnx/issues/1123\n",
      "  parks = ox.geometries_from_polygon(\n",
      "C:\\Users\\dsala\\AppData\\Local\\Temp\\ipykernel_3984\\3720497210.py:14: FutureWarning: The `geometries` module and `geometries_from_X` functions have been renamed the `features` module and `features_from_X` functions. Use these instead. The `geometries` module and function names are deprecated and will be removed in the v2.0.0 release. See the OSMnx v2 migration guide: https://github.com/gboeing/osmnx/issues/1123\n",
      "  transport_stations = ox.geometries_from_polygon(\n",
      "C:\\Users\\dsala\\AppData\\Local\\Temp\\ipykernel_3984\\3720497210.py:18: FutureWarning: The `geometries` module and `geometries_from_X` functions have been renamed the `features` module and `features_from_X` functions. Use these instead. The `geometries` module and function names are deprecated and will be removed in the v2.0.0 release. See the OSMnx v2 migration guide: https://github.com/gboeing/osmnx/issues/1123\n",
      "  Hospitales=ox.geometries_from_polygon(\n"
     ]
    },
    {
     "name": "stdout",
     "output_type": "stream",
     "text": [
      "POIs guardados como 'parks_pois.csv' y 'transport_stations_pois.csv'\n"
     ]
    },
    {
     "name": "stderr",
     "output_type": "stream",
     "text": [
      "C:\\Users\\dsala\\AppData\\Local\\Temp\\ipykernel_3984\\3720497210.py:29: UserWarning: Geometry is in a geographic CRS. Results from 'centroid' are likely incorrect. Use 'GeoSeries.to_crs()' to re-project geometries to a projected CRS before this operation.\n",
      "\n",
      "  pois['lat'] = pois.geometry.centroid.y\n",
      "C:\\Users\\dsala\\AppData\\Local\\Temp\\ipykernel_3984\\3720497210.py:30: UserWarning: Geometry is in a geographic CRS. Results from 'centroid' are likely incorrect. Use 'GeoSeries.to_crs()' to re-project geometries to a projected CRS before this operation.\n",
      "\n",
      "  pois['lon'] = pois.geometry.centroid.x\n",
      "C:\\Users\\dsala\\AppData\\Local\\Temp\\ipykernel_3984\\3720497210.py:29: UserWarning: Geometry is in a geographic CRS. Results from 'centroid' are likely incorrect. Use 'GeoSeries.to_crs()' to re-project geometries to a projected CRS before this operation.\n",
      "\n",
      "  pois['lat'] = pois.geometry.centroid.y\n",
      "C:\\Users\\dsala\\AppData\\Local\\Temp\\ipykernel_3984\\3720497210.py:30: UserWarning: Geometry is in a geographic CRS. Results from 'centroid' are likely incorrect. Use 'GeoSeries.to_crs()' to re-project geometries to a projected CRS before this operation.\n",
      "\n",
      "  pois['lon'] = pois.geometry.centroid.x\n",
      "C:\\Users\\dsala\\AppData\\Local\\Temp\\ipykernel_3984\\3720497210.py:29: UserWarning: Geometry is in a geographic CRS. Results from 'centroid' are likely incorrect. Use 'GeoSeries.to_crs()' to re-project geometries to a projected CRS before this operation.\n",
      "\n",
      "  pois['lat'] = pois.geometry.centroid.y\n",
      "C:\\Users\\dsala\\AppData\\Local\\Temp\\ipykernel_3984\\3720497210.py:30: UserWarning: Geometry is in a geographic CRS. Results from 'centroid' are likely incorrect. Use 'GeoSeries.to_crs()' to re-project geometries to a projected CRS before this operation.\n",
      "\n",
      "  pois['lon'] = pois.geometry.centroid.x\n"
     ]
    }
   ],
   "source": [
    "\n",
    "\n",
    "\n",
    "ox.config(use_cache=True, log_console=True)\n",
    "\n",
    "# Descargar datos de OpenStreetMap para Bogotá\n",
    "\n",
    "bogota_boundary = ox.geocoder.geocode_to_gdf(\"Bogotá, Colombia\")\n",
    "\n",
    "# Obtener parques como puntos de interés\n",
    "parks = ox.geometries_from_polygon(\n",
    "    bogota_boundary.geometry.iloc[0], tags={\"leisure\": \"park\"}\n",
    ")\n",
    "\n",
    "# Obtener estaciones de transporte público como puntos de interés\n",
    "transport_stations = ox.geometries_from_polygon(\n",
    "    bogota_boundary.geometry.iloc[0], tags={\"public_transport\": True}\n",
    ")\n",
    "\n",
    "Hospitales=ox.geometries_from_polygon(\n",
    "    bogota_boundary.geometry.iloc[0], tags={\"amenity\": \"hospital\"}\n",
    ")\n",
    "\n",
    "\n",
    "# Extraer las coordenadas de los POIs\n",
    "def extract_poi_coordinates(gdf, name_column=None):\n",
    "    \"\"\"\n",
    "    Extrae coordenadas (lat, lon) de un GeoDataFrame.\n",
    "    \"\"\"\n",
    "    pois = gdf[['geometry']].copy()\n",
    "    pois['lat'] = pois.geometry.centroid.y\n",
    "    pois['lon'] = pois.geometry.centroid.x\n",
    "    if name_column and name_column in gdf.columns:\n",
    "        pois['name'] = gdf[name_column]\n",
    "    else:\n",
    "        pois['name'] = 'Unknown'\n",
    "    return pois[['name', 'lat', 'lon']]\n",
    "\n",
    "# Crear DataFrames con POIs\n",
    "park_pois = extract_poi_coordinates(parks, name_column=\"name\")\n",
    "transport_pois = extract_poi_coordinates(transport_stations, name_column=\"name\")\n",
    "hospital_pois = extract_poi_coordinates(Hospitales, name_column=\"name\")\n",
    "\n",
    "\n",
    "\n",
    "# Guardar los POIs en archivos CSV\n",
    "park_pois.to_csv(\"parks_pois.csv\", index=False)\n",
    "transport_pois.to_csv(\"transport_stations_pois.csv\", index=False)\n",
    "hospital_pois.to_csv(\"hospital_pois.csv\", index=False)\n",
    "\n",
    "print(\"POIs guardados como 'parks_pois.csv' y 'transport_stations_pois.csv'\")\n"
   ]
  },
  {
   "cell_type": "code",
   "execution_count": 19,
   "metadata": {},
   "outputs": [
    {
     "name": "stdout",
     "output_type": "stream",
     "text": [
      "Cálculo completado con optimización. Archivos guardados como 'train_with_distances.csv' y 'test_with_distances.csv'\n"
     ]
    }
   ],
   "source": [
    "\n",
    "from scipy.spatial import cKDTree\n",
    "import numpy as np\n",
    "\n",
    "\n",
    "# Cargar datos de POIs\n",
    "hospital_pois = pd.read_csv('hospital_pois.csv')\n",
    "park_pois = pd.read_csv('parks_pois.csv')\n",
    "transport_pois = pd.read_csv('transport_stations_pois.csv')\n",
    "\n",
    "# Función para calcular las distancias mínimas usando cKDTree\n",
    "def calculate_nearest_poi_fast(properties, pois):\n",
    "    \"\"\"\n",
    "    Calcula la distancia mínima desde cada propiedad a un conjunto de POIs utilizando cKDTree.\n",
    "    \"\"\"\n",
    "    # Crear un árbol KD con los POIs\n",
    "    tree = cKDTree(pois)\n",
    "    # Calcular distancias mínimas para cada propiedad\n",
    "    distances, _ = tree.query(properties, k=1)  # k=1 para la distancia más cercana\n",
    "    return distances\n",
    "\n",
    "# Convertir coordenadas en matrices NumPy para optimización\n",
    "def get_coordinates(df):\n",
    "    return np.array(df[['lat', 'lon']])\n",
    "\n",
    "# Coordenadas de las propiedades\n",
    "train_coords = get_coordinates(train)\n",
    "test_coords = get_coordinates(test)\n",
    "\n",
    "# Coordenadas de los POIs\n",
    "hospital_coords = get_coordinates(hospital_pois)\n",
    "park_coords = get_coordinates(park_pois)\n",
    "transport_coords = get_coordinates(transport_pois)\n",
    "\n",
    "# Calcular distancias mínimas y añadirlas a las bases\n",
    "train['distance_to_nearest_hospital'] = calculate_nearest_poi_fast(train_coords, hospital_coords)\n",
    "train['distance_to_nearest_park'] = calculate_nearest_poi_fast(train_coords, park_coords)\n",
    "train['distance_to_nearest_transport_station'] = calculate_nearest_poi_fast(train_coords, transport_coords)\n",
    "\n",
    "test['distance_to_nearest_hospital'] = calculate_nearest_poi_fast(test_coords, hospital_coords)\n",
    "test['distance_to_nearest_park'] = calculate_nearest_poi_fast(test_coords, park_coords)\n",
    "test['distance_to_nearest_transport_station'] = calculate_nearest_poi_fast(test_coords, transport_coords)\n",
    "\n",
    "# Guardar los resultados en archivos\n",
    "train.to_csv('train_with_distances.csv', index=False)\n",
    "test.to_csv('test_with_distances.csv', index=False)\n",
    "\n",
    "print(\"Cálculo completado con optimización. Archivos guardados como 'train_with_distances.csv' y 'test_with_distances.csv'\")\n",
    "\n",
    "\n",
    "\n"
   ]
  },
  {
   "cell_type": "code",
   "execution_count": 25,
   "metadata": {},
   "outputs": [],
   "source": [
    "\n",
    "\n",
    "# Coordenadas del centro financiero de Bogotá (Calle 72 con Carrera Séptima)\n",
    "financial_center_coords = (4.6581, -74.0578)\n",
    "\n",
    "# Función para calcular la distancia al centro financiero\n",
    "def calculate_distance_to_financial_center(lat, lon):\n",
    "    property_coords = (lat, lon)\n",
    "    return geodesic(property_coords, financial_center_coords).meters\n",
    "\n",
    "\n",
    "\n",
    "# Añadir la distancia al centro financiero\n",
    "train['distance_to_financial_center'] = train.apply(\n",
    "    lambda row: calculate_distance_to_financial_center(row['lat'], row['lon']),\n",
    "    axis=1\n",
    ")\n",
    "test['distance_to_financial_center'] = test.apply(\n",
    "    lambda row: calculate_distance_to_financial_center(row['lat'], row['lon']),\n",
    "    axis=1\n",
    ")\n",
    "\n",
    "\n",
    "\n",
    "\n"
   ]
  },
  {
   "cell_type": "code",
   "execution_count": 27,
   "metadata": {},
   "outputs": [],
   "source": [
    "train.to_csv('train_PS3.csv', index=False)\n",
    "test.to_csv('test_PS3.csv', index=False)"
   ]
  },
  {
   "cell_type": "code",
   "execution_count": 28,
   "metadata": {},
   "outputs": [
    {
     "data": {
      "text/plain": [
       "Index(['property_id', 'city', 'price', 'month', 'year', 'surface_total',\n",
       "       'surface_covered', 'rooms', 'bedrooms', 'bathrooms', 'property_type',\n",
       "       'operation_type', 'lat', 'lon', 'title', 'description', 'barrio',\n",
       "       'cerca_virrey', 'num_parqueaderos', 'num_banos',\n",
       "       'distance_to_nearest_hospital', 'distance_to_nearest_park',\n",
       "       'distance_to_nearest_transport_station',\n",
       "       'distance_to_financial_center'],\n",
       "      dtype='object')"
      ]
     },
     "execution_count": 28,
     "metadata": {},
     "output_type": "execute_result"
    }
   ],
   "source": [
    "train.columns"
   ]
  },
  {
   "cell_type": "markdown",
   "metadata": {},
   "source": []
  }
 ],
 "metadata": {
  "kernelspec": {
   "display_name": "base",
   "language": "python",
   "name": "python3"
  },
  "language_info": {
   "codemirror_mode": {
    "name": "ipython",
    "version": 3
   },
   "file_extension": ".py",
   "mimetype": "text/x-python",
   "name": "python",
   "nbconvert_exporter": "python",
   "pygments_lexer": "ipython3",
   "version": "3.9.12"
  }
 },
 "nbformat": 4,
 "nbformat_minor": 2
}
