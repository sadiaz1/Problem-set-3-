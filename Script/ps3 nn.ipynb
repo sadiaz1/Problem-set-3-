{
 "cells": [
  {
   "cell_type": "code",
   "execution_count": 1,
   "metadata": {},
   "outputs": [],
   "source": [
    "import pandas as pd \n",
    "import os\n",
    "\n",
    "import numpy as np\n",
    "from sklearn.model_selection import train_test_split\n",
    "from sklearn.preprocessing import StandardScaler\n"
   ]
  },
  {
   "cell_type": "code",
   "execution_count": 3,
   "metadata": {},
   "outputs": [],
   "source": [
    "os.chdir(r\"C:\\Users\\dsala\\Downloads\")\n",
    "train = pd.read_csv('train_PS3.csv')\n",
    "test = pd.read_csv('test_PS3.csv')"
   ]
  },
  {
   "cell_type": "code",
   "execution_count": 3,
   "metadata": {},
   "outputs": [
    {
     "name": "stdout",
     "output_type": "stream",
     "text": [
      "<class 'pandas.core.frame.DataFrame'>\n",
      "RangeIndex: 38644 entries, 0 to 38643\n",
      "Data columns (total 24 columns):\n",
      " #   Column                                 Non-Null Count  Dtype  \n",
      "---  ------                                 --------------  -----  \n",
      " 0   property_id                            38644 non-null  object \n",
      " 1   city                                   38644 non-null  object \n",
      " 2   price                                  38644 non-null  int64  \n",
      " 3   month                                  38644 non-null  int64  \n",
      " 4   year                                   38644 non-null  int64  \n",
      " 5   surface_total                          7854 non-null   float64\n",
      " 6   surface_covered                        8565 non-null   float64\n",
      " 7   rooms                                  20384 non-null  float64\n",
      " 8   bedrooms                               38644 non-null  int64  \n",
      " 9   bathrooms                              28573 non-null  float64\n",
      " 10  property_type                          38644 non-null  object \n",
      " 11  operation_type                         38644 non-null  object \n",
      " 12  lat                                    38644 non-null  float64\n",
      " 13  lon                                    38644 non-null  float64\n",
      " 14  title                                  38619 non-null  object \n",
      " 15  description                            38632 non-null  object \n",
      " 16  barrio                                 1931 non-null   object \n",
      " 17  cerca_virrey                           38644 non-null  int64  \n",
      " 18  num_parqueaderos                       38632 non-null  float64\n",
      " 19  num_banos                              38632 non-null  float64\n",
      " 20  distance_to_nearest_hospital           38644 non-null  float64\n",
      " 21  distance_to_nearest_park               38644 non-null  float64\n",
      " 22  distance_to_nearest_transport_station  38644 non-null  float64\n",
      " 23  distance_to_financial_center           38644 non-null  float64\n",
      "dtypes: float64(12), int64(5), object(7)\n",
      "memory usage: 7.1+ MB\n"
     ]
    }
   ],
   "source": [
    "# Mostrar información básica\n",
    "\n",
    "train.info()\n",
    "\n"
   ]
  },
  {
   "cell_type": "code",
   "execution_count": 4,
   "metadata": {},
   "outputs": [
    {
     "name": "stdout",
     "output_type": "stream",
     "text": [
      "\n",
      "Columnas después de eliminar irrelevantes:\n",
      "Index(['price', 'surface_total', 'surface_covered', 'rooms', 'bedrooms',\n",
      "       'bathrooms', 'property_type', 'lat', 'lon',\n",
      "       'distance_to_nearest_hospital', 'distance_to_nearest_park',\n",
      "       'distance_to_nearest_transport_station',\n",
      "       'distance_to_financial_center'],\n",
      "      dtype='object')\n"
     ]
    }
   ],
   "source": [
    "# Columnas irrelevantes a eliminar\n",
    "columns_to_drop = ['property_id', 'city', 'title', 'description', 'operation_type', 'month','num_banos', 'year','barrio','cerca_virrey','num_parqueaderos']\n",
    "\n",
    "# Eliminar estas columnas en train y test\n",
    "train = train.drop(columns=columns_to_drop, errors='ignore')\n",
    "test = test.drop(columns=columns_to_drop, errors='ignore')\n",
    "\n",
    "# Verificar columnas restantes\n",
    "print(\"\\nColumnas después de eliminar irrelevantes:\")\n",
    "print(train.columns)\n"
   ]
  },
  {
   "cell_type": "code",
   "execution_count": 6,
   "metadata": {},
   "outputs": [],
   "source": [
    "train['log_price'] = np.log1p(train['price'])"
   ]
  },
  {
   "cell_type": "code",
   "execution_count": 5,
   "metadata": {},
   "outputs": [
    {
     "name": "stdout",
     "output_type": "stream",
     "text": [
      "\n",
      "Distribución de property_type_Casa en train:\n",
      "property_type_Casa\n",
      "0    29177\n",
      "1     9467\n",
      "Name: count, dtype: int64\n",
      "\n",
      "Distribución de property_type_Casa en test:\n",
      "property_type_Casa\n",
      "0    10012\n",
      "1      274\n",
      "Name: count, dtype: int64\n",
      "\n",
      "Columnas finales en train:\n",
      "Index(['price', 'surface_total', 'surface_covered', 'rooms', 'bedrooms',\n",
      "       'bathrooms', 'lat', 'lon', 'distance_to_nearest_hospital',\n",
      "       'distance_to_nearest_park', 'distance_to_nearest_transport_station',\n",
      "       'distance_to_financial_center', 'property_type_Casa'],\n",
      "      dtype='object')\n",
      "\n",
      "Columnas finales en test:\n",
      "Index(['price', 'surface_total', 'surface_covered', 'rooms', 'bedrooms',\n",
      "       'bathrooms', 'lat', 'lon', 'distance_to_nearest_hospital',\n",
      "       'distance_to_nearest_park', 'distance_to_nearest_transport_station',\n",
      "       'distance_to_financial_center', 'property_type_Casa'],\n",
      "      dtype='object')\n"
     ]
    }
   ],
   "source": [
    "# Crear la dummy property_type_Casa\n",
    "train['property_type_Casa'] = train['property_type'].apply(lambda x: 1 if x == 'Casa' else 0)\n",
    "test['property_type_Casa'] = test['property_type'].apply(lambda x: 1 if x == 'Casa' else 0)\n",
    "\n",
    "# Verificar la transformación\n",
    "print(\"\\nDistribución de property_type_Casa en train:\")\n",
    "print(train['property_type_Casa'].value_counts())\n",
    "\n",
    "print(\"\\nDistribución de property_type_Casa en test:\")\n",
    "print(test['property_type_Casa'].value_counts())\n",
    "\n",
    "# Eliminar la columna original property_type\n",
    "train = train.drop(columns=['property_type'], errors='ignore')\n",
    "test = test.drop(columns=['property_type'], errors='ignore')\n",
    "\n",
    "# Verificar las columnas finales\n",
    "print(\"\\nColumnas finales en train:\")\n",
    "print(train.columns)\n",
    "\n",
    "print(\"\\nColumnas finales en test:\")\n",
    "print(test.columns)\n"
   ]
  },
  {
   "cell_type": "code",
   "execution_count": 9,
   "metadata": {},
   "outputs": [
    {
     "name": "stdout",
     "output_type": "stream",
     "text": [
      "\n",
      "Importancia de características:\n",
      "bathrooms                                0.285177\n",
      "distance_to_financial_center             0.159076\n",
      "lon                                      0.118510\n",
      "lat                                      0.070661\n",
      "distance_to_nearest_park                 0.058089\n",
      "distance_to_nearest_hospital             0.056133\n",
      "distance_to_nearest_transport_station    0.055461\n",
      "bedrooms                                 0.053415\n",
      "surface_covered                          0.042025\n",
      "surface_total                            0.038298\n",
      "rooms                                    0.033797\n",
      "property_type_Casa                       0.029359\n",
      "dtype: float64\n"
     ]
    },
    {
     "data": {
      "image/png": "[encoded data removed]",
      "text/plain": [
       "<Figure size 1200x800 with 1 Axes>"
      ]
     },
     "metadata": {},
     "output_type": "display_data"
    }
   ],
   "source": [
    "from sklearn.ensemble import RandomForestRegressor\n",
    "from sklearn.model_selection import train_test_split\n",
    "\n",
    "# Separar objetivo (log_price) y características\n",
    "y = train['log_price']\n",
    "X = train.drop(columns=['log_price', 'price'], errors='ignore')\n",
    "\n",
    "# Dividir en conjunto de entrenamiento y validación\n",
    "X_train, X_val, y_train, y_val = train_test_split(X, y, test_size=0.2, random_state=42)\n",
    "\n",
    "# Entrenar un Random Forest\n",
    "rf = RandomForestRegressor(n_estimators=100, random_state=42)\n",
    "rf.fit(X_train, y_train)\n",
    "\n",
    "# Obtener importancia de características\n",
    "importances = pd.Series(rf.feature_importances_, index=X_train.columns).sort_values(ascending=False)\n",
    "\n",
    "# Mostrar importancia\n",
    "print(\"\\nImportancia de características:\")\n",
    "print(importances)\n",
    "\n",
    "# Graficar\n",
    "import matplotlib.pyplot as plt\n",
    "import seaborn as sns\n",
    "\n",
    "plt.figure(figsize=(12, 8))\n",
    "sns.barplot(x=importances, y=importances.index)\n",
    "plt.title('Importancia de características')\n",
    "plt.xlabel('Importancia')\n",
    "plt.ylabel('Características')\n",
    "plt.show()\n"
   ]
  },
  {
   "cell_type": "code",
   "execution_count": 7,
   "metadata": {},
   "outputs": [
    {
     "name": "stdout",
     "output_type": "stream",
     "text": [
      "\n",
      "Estadísticos básicos de las variables numéricas:\n",
      "              price  surface_total  surface_covered         rooms  \\\n",
      "count  3.864400e+04   7.854000e+03     8.565000e+03  2.038400e+04   \n",
      "mean   6.545347e+08  -2.533129e-17    -5.973039e-17 -1.568604e-17   \n",
      "std    3.114179e+08   1.000064e+00     1.000058e+00  1.000025e+00   \n",
      "min    3.000000e+08  -5.028205e-01    -1.695982e+00 -1.464465e+00   \n",
      "25%    4.150000e+08  -2.549645e-01    -6.648107e-01 -7.353266e-01   \n",
      "50%    5.599900e+08  -1.273915e-01    -3.123850e-01 -6.188233e-03   \n",
      "75%    8.100000e+08   1.131747e-01     3.663609e-01 -6.188233e-03   \n",
      "max    1.650000e+09   6.190223e+01     1.571646e+01  5.826919e+00   \n",
      "\n",
      "           bedrooms     bathrooms           lat           lon  \\\n",
      "count  3.864400e+04  2.857300e+04  38644.000000  38644.000000   \n",
      "mean  -2.794806e-17  1.511952e-16      4.691164    -74.062839   \n",
      "std    1.000013e+00  1.000017e+00      0.037480      0.032112   \n",
      "min   -2.048871e+00 -1.723126e+00      4.576710    -74.170205   \n",
      "25%   -7.457673e-01 -8.084047e-01      4.678562    -74.076479   \n",
      "50%   -9.421568e-02  1.063168e-01      4.700000    -74.050425   \n",
      "75%   -9.421568e-02  1.063168e-01      4.717737    -74.039374   \n",
      "max    5.118198e+00  9.253532e+00      4.765305    -74.025706   \n",
      "\n",
      "       distance_to_nearest_hospital  distance_to_nearest_park  \\\n",
      "count                  3.864400e+04              3.864400e+04   \n",
      "mean                   2.824225e-16              2.228490e-16   \n",
      "std                    1.000013e+00              1.000013e+00   \n",
      "min                   -1.498032e+00             -1.592406e+00   \n",
      "25%                   -7.521278e-01             -6.994431e-01   \n",
      "50%                   -2.054205e-01             -2.090282e-01   \n",
      "75%                    4.649143e-01              4.750181e-01   \n",
      "max                    5.734224e+00              3.203135e+01   \n",
      "\n",
      "       distance_to_nearest_transport_station  distance_to_financial_center  \\\n",
      "count                           3.864400e+04                  3.864400e+04   \n",
      "mean                           -8.457967e-17                 -3.905374e-16   \n",
      "std                             1.000013e+00                  1.000013e+00   \n",
      "min                            -1.557354e+00                 -2.585882e+00   \n",
      "25%                            -7.369601e-01                 -7.099919e-01   \n",
      "50%                            -2.087481e-01                 -1.403242e-01   \n",
      "75%                             5.289445e-01                  6.730842e-01   \n",
      "max                             1.171642e+01                  3.864442e+00   \n",
      "\n",
      "       property_type_Casa  \n",
      "count        38644.000000  \n",
      "mean             0.244980  \n",
      "std              0.430081  \n",
      "min              0.000000  \n",
      "25%              0.000000  \n",
      "50%              0.000000  \n",
      "75%              0.000000  \n",
      "max              1.000000  \n"
     ]
    }
   ],
   "source": [
    "# Verificar estadísticos básicos de las variables numéricas\n",
    "numeric_columns = train.select_dtypes(include=['float64', 'int64']).columns\n",
    "print(\"\\nEstadísticos básicos de las variables numéricas:\")\n",
    "print(train[numeric_columns].describe())\n"
   ]
  },
  {
   "cell_type": "code",
   "execution_count": 6,
   "metadata": {},
   "outputs": [
    {
     "name": "stdout",
     "output_type": "stream",
     "text": [
      "\n",
      "Primeras filas después de normalización (excepto lat y lon):\n",
      "   surface_total  surface_covered     rooms  bedrooms  bathrooms  \\\n",
      "0            NaN              NaN -0.006188 -0.094216        NaN   \n",
      "1            NaN              NaN  4.368642  3.815094        NaN   \n",
      "2            NaN              NaN  3.639504  3.163543        NaN   \n",
      "3            NaN              NaN  2.181227  1.860439        NaN   \n",
      "4            NaN              NaN       NaN -0.094216   0.106317   \n",
      "\n",
      "   distance_to_nearest_hospital  distance_to_nearest_park  \\\n",
      "0                     -0.170301                  0.716997   \n",
      "1                      1.372959                 -1.096929   \n",
      "2                      0.163687                  0.089085   \n",
      "3                     -0.644768                  2.486199   \n",
      "4                      2.959461                  0.036245   \n",
      "\n",
      "   distance_to_nearest_transport_station  distance_to_financial_center  \n",
      "0                              -0.367021                      0.418769  \n",
      "1                               0.935015                      1.539799  \n",
      "2                               1.993770                      2.582712  \n",
      "3                              -1.444444                      1.530868  \n",
      "4                               0.779084                      2.108785  \n"
     ]
    }
   ],
   "source": [
    "from sklearn.preprocessing import StandardScaler\n",
    "\n",
    "# Lista de columnas a normalizar (excluyendo log_price, lat y lon)\n",
    "columns_to_normalize = [\n",
    "    'surface_total', 'surface_covered', 'rooms', 'bedrooms', 'bathrooms',\n",
    "    'distance_to_nearest_hospital', 'distance_to_nearest_park',\n",
    "    'distance_to_nearest_transport_station', 'distance_to_financial_center'\n",
    "]\n",
    "\n",
    "# Crear el scaler\n",
    "scaler = StandardScaler()\n",
    "\n",
    "# Normalizar en train\n",
    "train[columns_to_normalize] = scaler.fit_transform(train[columns_to_normalize])\n",
    "\n",
    "# Normalizar en test usando los mismos parámetros\n",
    "test[columns_to_normalize] = scaler.transform(test[columns_to_normalize])\n",
    "\n",
    "# Verificar resultados\n",
    "print(\"\\nPrimeras filas después de normalización (excepto lat y lon):\")\n",
    "print(train[columns_to_normalize].head())\n"
   ]
  },
  {
   "cell_type": "code",
   "execution_count": 13,
   "metadata": {},
   "outputs": [
    {
     "name": "stdout",
     "output_type": "stream",
     "text": [
      "\n",
      "Media de las columnas normalizadas:\n",
      "surface_total                           -2.533129e-17\n",
      "surface_covered                         -5.973039e-17\n",
      "rooms                                   -1.568604e-17\n",
      "bedrooms                                -2.794806e-17\n",
      "bathrooms                                1.511952e-16\n",
      "distance_to_nearest_hospital             2.824225e-16\n",
      "distance_to_nearest_park                 2.228490e-16\n",
      "distance_to_nearest_transport_station   -8.457967e-17\n",
      "distance_to_financial_center            -3.905374e-16\n",
      "dtype: float64\n",
      "\n",
      "Desviación estándar de las columnas normalizadas:\n",
      "surface_total                            1.000064\n",
      "surface_covered                          1.000058\n",
      "rooms                                    1.000025\n",
      "bedrooms                                 1.000013\n",
      "bathrooms                                1.000017\n",
      "distance_to_nearest_hospital             1.000013\n",
      "distance_to_nearest_park                 1.000013\n",
      "distance_to_nearest_transport_station    1.000013\n",
      "distance_to_financial_center             1.000013\n",
      "dtype: float64\n"
     ]
    }
   ],
   "source": [
    "# Verificar media y desviación estándar de las columnas normalizadas\n",
    "columns_to_check = columns_to_normalize  # Las columnas que se normalizaron\n",
    "\n",
    "# Calcular estadísticas\n",
    "mean_values = train[columns_to_check].mean()\n",
    "std_values = train[columns_to_check].std()\n",
    "\n",
    "# Mostrar resultados\n",
    "print(\"\\nMedia de las columnas normalizadas:\")\n",
    "print(mean_values)\n",
    "\n",
    "print(\"\\nDesviación estándar de las columnas normalizadas:\")\n",
    "print(std_values)\n"
   ]
  },
  {
   "cell_type": "markdown",
   "metadata": {},
   "source": [
    "separar datos"
   ]
  },
  {
   "cell_type": "code",
   "execution_count": 6,
   "metadata": {},
   "outputs": [
    {
     "name": "stdout",
     "output_type": "stream",
     "text": [
      "Dimensiones de X_train: (30915, 12)\n",
      "Dimensiones de X_val: (7729, 12)\n"
     ]
    }
   ],
   "source": [
    "from sklearn.model_selection import train_test_split\n",
    "\n",
    "# Separar características (X) y objetivo (y)\n",
    "\n",
    "X = train.drop(columns=['log_price', 'price'], errors='ignore')\n",
    "y = train['price']  # Usar directamente el precio\n",
    "\n",
    "\n",
    "# Dividir en conjunto de entrenamiento y validación\n",
    "X_train, X_val, y_train, y_val = train_test_split(X, y, test_size=0.2, random_state=202013547)\n",
    "\n",
    "print(f\"Dimensiones de X_train: {X_train.shape}\")\n",
    "print(f\"Dimensiones de X_val: {X_val.shape}\")\n"
   ]
  },
  {
   "cell_type": "code",
   "execution_count": 7,
   "metadata": {},
   "outputs": [
    {
     "name": "stderr",
     "output_type": "stream",
     "text": [
      "c:\\Users\\dsala\\anaconda3\\lib\\site-packages\\keras\\src\\layers\\core\\dense.py:87: UserWarning: Do not pass an `input_shape`/`input_dim` argument to a layer. When using Sequential models, prefer using an `Input(shape)` object as the first layer in the model instead.\n",
      "  super().__init__(activity_regularizer=activity_regularizer, **kwargs)\n"
     ]
    },
    {
     "data": {
      "text/html": [
       "<pre style=\"white-space:pre;overflow-x:auto;line-height:normal;font-family:Menlo,'DejaVu Sans Mono',consolas,'Courier New',monospace\"><span style=\"font-weight: bold\">Model: \"sequential\"</span>\n",
       "</pre>\n"
      ],
      "text/plain": [
       "\u001b[1mModel: \"sequential\"\u001b[0m\n"
      ]
     },
     "metadata": {},
     "output_type": "display_data"
    },
    {
     "data": {
      "text/html": [
       "<pre style=\"white-space:pre;overflow-x:auto;line-height:normal;font-family:Menlo,'DejaVu Sans Mono',consolas,'Courier New',monospace\">┏━━━━━━━━━━━━━━━━━━━━━━━━━━━━━━━━━┳━━━━━━━━━━━━━━━━━━━━━━━━┳━━━━━━━━━━━━━━━┓\n",
       "┃<span style=\"font-weight: bold\"> Layer (type)                    </span>┃<span style=\"font-weight: bold\"> Output Shape           </span>┃<span style=\"font-weight: bold\">       Param # </span>┃\n",
       "┡━━━━━━━━━━━━━━━━━━━━━━━━━━━━━━━━━╇━━━━━━━━━━━━━━━━━━━━━━━━╇━━━━━━━━━━━━━━━┩\n",
       "│ dense (<span style=\"color: #0087ff; text-decoration-color: #0087ff\">Dense</span>)                   │ (<span style=\"color: #00d7ff; text-decoration-color: #00d7ff\">None</span>, <span style=\"color: #00af00; text-decoration-color: #00af00\">264</span>)            │         <span style=\"color: #00af00; text-decoration-color: #00af00\">3,432</span> │\n",
       "├─────────────────────────────────┼────────────────────────┼───────────────┤\n",
       "│ dropout (<span style=\"color: #0087ff; text-decoration-color: #0087ff\">Dropout</span>)               │ (<span style=\"color: #00d7ff; text-decoration-color: #00d7ff\">None</span>, <span style=\"color: #00af00; text-decoration-color: #00af00\">264</span>)            │             <span style=\"color: #00af00; text-decoration-color: #00af00\">0</span> │\n",
       "├─────────────────────────────────┼────────────────────────┼───────────────┤\n",
       "│ dense_1 (<span style=\"color: #0087ff; text-decoration-color: #0087ff\">Dense</span>)                 │ (<span style=\"color: #00d7ff; text-decoration-color: #00d7ff\">None</span>, <span style=\"color: #00af00; text-decoration-color: #00af00\">128</span>)            │        <span style=\"color: #00af00; text-decoration-color: #00af00\">33,920</span> │\n",
       "├─────────────────────────────────┼────────────────────────┼───────────────┤\n",
       "│ dropout_1 (<span style=\"color: #0087ff; text-decoration-color: #0087ff\">Dropout</span>)             │ (<span style=\"color: #00d7ff; text-decoration-color: #00d7ff\">None</span>, <span style=\"color: #00af00; text-decoration-color: #00af00\">128</span>)            │             <span style=\"color: #00af00; text-decoration-color: #00af00\">0</span> │\n",
       "├─────────────────────────────────┼────────────────────────┼───────────────┤\n",
       "│ dense_2 (<span style=\"color: #0087ff; text-decoration-color: #0087ff\">Dense</span>)                 │ (<span style=\"color: #00d7ff; text-decoration-color: #00d7ff\">None</span>, <span style=\"color: #00af00; text-decoration-color: #00af00\">64</span>)             │         <span style=\"color: #00af00; text-decoration-color: #00af00\">8,256</span> │\n",
       "├─────────────────────────────────┼────────────────────────┼───────────────┤\n",
       "│ dropout_2 (<span style=\"color: #0087ff; text-decoration-color: #0087ff\">Dropout</span>)             │ (<span style=\"color: #00d7ff; text-decoration-color: #00d7ff\">None</span>, <span style=\"color: #00af00; text-decoration-color: #00af00\">64</span>)             │             <span style=\"color: #00af00; text-decoration-color: #00af00\">0</span> │\n",
       "├─────────────────────────────────┼────────────────────────┼───────────────┤\n",
       "│ dense_3 (<span style=\"color: #0087ff; text-decoration-color: #0087ff\">Dense</span>)                 │ (<span style=\"color: #00d7ff; text-decoration-color: #00d7ff\">None</span>, <span style=\"color: #00af00; text-decoration-color: #00af00\">32</span>)             │         <span style=\"color: #00af00; text-decoration-color: #00af00\">2,080</span> │\n",
       "├─────────────────────────────────┼────────────────────────┼───────────────┤\n",
       "│ dropout_3 (<span style=\"color: #0087ff; text-decoration-color: #0087ff\">Dropout</span>)             │ (<span style=\"color: #00d7ff; text-decoration-color: #00d7ff\">None</span>, <span style=\"color: #00af00; text-decoration-color: #00af00\">32</span>)             │             <span style=\"color: #00af00; text-decoration-color: #00af00\">0</span> │\n",
       "├─────────────────────────────────┼────────────────────────┼───────────────┤\n",
       "│ dense_4 (<span style=\"color: #0087ff; text-decoration-color: #0087ff\">Dense</span>)                 │ (<span style=\"color: #00d7ff; text-decoration-color: #00d7ff\">None</span>, <span style=\"color: #00af00; text-decoration-color: #00af00\">1</span>)              │            <span style=\"color: #00af00; text-decoration-color: #00af00\">33</span> │\n",
       "└─────────────────────────────────┴────────────────────────┴───────────────┘\n",
       "</pre>\n"
      ],
      "text/plain": [
       "┏━━━━━━━━━━━━━━━━━━━━━━━━━━━━━━━━━┳━━━━━━━━━━━━━━━━━━━━━━━━┳━━━━━━━━━━━━━━━┓\n",
       "┃\u001b[1m \u001b[0m\u001b[1mLayer (type)                   \u001b[0m\u001b[1m \u001b[0m┃\u001b[1m \u001b[0m\u001b[1mOutput Shape          \u001b[0m\u001b[1m \u001b[0m┃\u001b[1m \u001b[0m\u001b[1m      Param #\u001b[0m\u001b[1m \u001b[0m┃\n",
       "┡━━━━━━━━━━━━━━━━━━━━━━━━━━━━━━━━━╇━━━━━━━━━━━━━━━━━━━━━━━━╇━━━━━━━━━━━━━━━┩\n",
       "│ dense (\u001b[38;5;33mDense\u001b[0m)                   │ (\u001b[38;5;45mNone\u001b[0m, \u001b[38;5;34m264\u001b[0m)            │         \u001b[38;5;34m3,432\u001b[0m │\n",
       "├─────────────────────────────────┼────────────────────────┼───────────────┤\n",
       "│ dropout (\u001b[38;5;33mDropout\u001b[0m)               │ (\u001b[38;5;45mNone\u001b[0m, \u001b[38;5;34m264\u001b[0m)            │             \u001b[38;5;34m0\u001b[0m │\n",
       "├─────────────────────────────────┼────────────────────────┼───────────────┤\n",
       "│ dense_1 (\u001b[38;5;33mDense\u001b[0m)                 │ (\u001b[38;5;45mNone\u001b[0m, \u001b[38;5;34m128\u001b[0m)            │        \u001b[38;5;34m33,920\u001b[0m │\n",
       "├─────────────────────────────────┼────────────────────────┼───────────────┤\n",
       "│ dropout_1 (\u001b[38;5;33mDropout\u001b[0m)             │ (\u001b[38;5;45mNone\u001b[0m, \u001b[38;5;34m128\u001b[0m)            │             \u001b[38;5;34m0\u001b[0m │\n",
       "├─────────────────────────────────┼────────────────────────┼───────────────┤\n",
       "│ dense_2 (\u001b[38;5;33mDense\u001b[0m)                 │ (\u001b[38;5;45mNone\u001b[0m, \u001b[38;5;34m64\u001b[0m)             │         \u001b[38;5;34m8,256\u001b[0m │\n",
       "├─────────────────────────────────┼────────────────────────┼───────────────┤\n",
       "│ dropout_2 (\u001b[38;5;33mDropout\u001b[0m)             │ (\u001b[38;5;45mNone\u001b[0m, \u001b[38;5;34m64\u001b[0m)             │             \u001b[38;5;34m0\u001b[0m │\n",
       "├─────────────────────────────────┼────────────────────────┼───────────────┤\n",
       "│ dense_3 (\u001b[38;5;33mDense\u001b[0m)                 │ (\u001b[38;5;45mNone\u001b[0m, \u001b[38;5;34m32\u001b[0m)             │         \u001b[38;5;34m2,080\u001b[0m │\n",
       "├─────────────────────────────────┼────────────────────────┼───────────────┤\n",
       "│ dropout_3 (\u001b[38;5;33mDropout\u001b[0m)             │ (\u001b[38;5;45mNone\u001b[0m, \u001b[38;5;34m32\u001b[0m)             │             \u001b[38;5;34m0\u001b[0m │\n",
       "├─────────────────────────────────┼────────────────────────┼───────────────┤\n",
       "│ dense_4 (\u001b[38;5;33mDense\u001b[0m)                 │ (\u001b[38;5;45mNone\u001b[0m, \u001b[38;5;34m1\u001b[0m)              │            \u001b[38;5;34m33\u001b[0m │\n",
       "└─────────────────────────────────┴────────────────────────┴───────────────┘\n"
      ]
     },
     "metadata": {},
     "output_type": "display_data"
    },
    {
     "data": {
      "text/html": [
       "<pre style=\"white-space:pre;overflow-x:auto;line-height:normal;font-family:Menlo,'DejaVu Sans Mono',consolas,'Courier New',monospace\"><span style=\"font-weight: bold\"> Total params: </span><span style=\"color: #00af00; text-decoration-color: #00af00\">47,721</span> (186.41 KB)\n",
       "</pre>\n"
      ],
      "text/plain": [
       "\u001b[1m Total params: \u001b[0m\u001b[38;5;34m47,721\u001b[0m (186.41 KB)\n"
      ]
     },
     "metadata": {},
     "output_type": "display_data"
    },
    {
     "data": {
      "text/html": [
       "<pre style=\"white-space:pre;overflow-x:auto;line-height:normal;font-family:Menlo,'DejaVu Sans Mono',consolas,'Courier New',monospace\"><span style=\"font-weight: bold\"> Trainable params: </span><span style=\"color: #00af00; text-decoration-color: #00af00\">47,721</span> (186.41 KB)\n",
       "</pre>\n"
      ],
      "text/plain": [
       "\u001b[1m Trainable params: \u001b[0m\u001b[38;5;34m47,721\u001b[0m (186.41 KB)\n"
      ]
     },
     "metadata": {},
     "output_type": "display_data"
    },
    {
     "data": {
      "text/html": [
       "<pre style=\"white-space:pre;overflow-x:auto;line-height:normal;font-family:Menlo,'DejaVu Sans Mono',consolas,'Courier New',monospace\"><span style=\"font-weight: bold\"> Non-trainable params: </span><span style=\"color: #00af00; text-decoration-color: #00af00\">0</span> (0.00 B)\n",
       "</pre>\n"
      ],
      "text/plain": [
       "\u001b[1m Non-trainable params: \u001b[0m\u001b[38;5;34m0\u001b[0m (0.00 B)\n"
      ]
     },
     "metadata": {},
     "output_type": "display_data"
    }
   ],
   "source": [
    "from tensorflow.keras.models import Sequential\n",
    "from tensorflow.keras.layers import Dense, Dropout\n",
    "from tensorflow.keras.optimizers import Adam\n",
    "\n",
    "# Construir la red neuronal\n",
    "model = Sequential([\n",
    "    Dense(264, activation='relu', input_dim=X_train.shape[1]),\n",
    "    Dropout(0.3),\n",
    "    Dense(128, activation='relu'),\n",
    "    Dropout(0.3),\n",
    "    Dense(64, activation='relu'),\n",
    "    Dropout(0.3),\n",
    "    Dense(32, activation='relu'),\n",
    "    Dropout(0.3),\n",
    "    Dense(1)  # Salida para predecir log_price\n",
    "])\n",
    "\n",
    "# Compilar el modelo\n",
    "model.compile(optimizer=Adam(learning_rate=0.001), loss='mean_squared_error', metrics=['mean_absolute_error'])\n",
    "\n",
    "# Resumen del modelo\n",
    "model.summary()\n"
   ]
  },
  {
   "cell_type": "markdown",
   "metadata": {},
   "source": [
    "Entrenar el modelo"
   ]
  },
  {
   "cell_type": "code",
   "execution_count": 8,
   "metadata": {},
   "outputs": [
    {
     "name": "stdout",
     "output_type": "stream",
     "text": [
      "Epoch 1/150\n",
      "\u001b[1m1933/1933\u001b[0m \u001b[32m━━━━━━━━━━━━━━━━━━━━\u001b[0m\u001b[37m\u001b[0m \u001b[1m5s\u001b[0m 2ms/step - loss: 523455770629505024.0000 - mean_absolute_error: 654075520.0000 - val_loss: 531763199452643328.0000 - val_mean_absolute_error: 657596416.0000\n",
      "Epoch 2/150\n",
      "\u001b[1m1933/1933\u001b[0m \u001b[32m━━━━━━━━━━━━━━━━━━━━\u001b[0m\u001b[37m\u001b[0m \u001b[1m4s\u001b[0m 2ms/step - loss: 521027224321654784.0000 - mean_absolute_error: 650620160.0000 - val_loss: 504103403907973120.0000 - val_mean_absolute_error: 636217344.0000\n",
      "Epoch 3/150\n",
      "\u001b[1m1933/1933\u001b[0m \u001b[32m━━━━━━━━━━━━━━━━━━━━\u001b[0m\u001b[37m\u001b[0m \u001b[1m4s\u001b[0m 2ms/step - loss: 480249430423896064.0000 - mean_absolute_error: 619375552.0000 - val_loss: 430959458022064128.0000 - val_mean_absolute_error: 575872192.0000\n",
      "Epoch 4/150\n",
      "\u001b[1m1933/1933\u001b[0m \u001b[32m━━━━━━━━━━━━━━━━━━━━\u001b[0m\u001b[37m\u001b[0m \u001b[1m4s\u001b[0m 2ms/step - loss: 396145071595978752.0000 - mean_absolute_error: 545436416.0000 - val_loss: 312991515448180736.0000 - val_mean_absolute_error: 462235104.0000\n",
      "Epoch 5/150\n",
      "\u001b[1m1933/1933\u001b[0m \u001b[32m━━━━━━━━━━━━━━━━━━━━\u001b[0m\u001b[37m\u001b[0m \u001b[1m4s\u001b[0m 2ms/step - loss: 274519792570859520.0000 - mean_absolute_error: 418510272.0000 - val_loss: 188290541622919168.0000 - val_mean_absolute_error: 307078272.0000\n",
      "Epoch 6/150\n",
      "\u001b[1m1933/1933\u001b[0m \u001b[32m━━━━━━━━━━━━━━━━━━━━\u001b[0m\u001b[37m\u001b[0m \u001b[1m4s\u001b[0m 2ms/step - loss: 172663011058647040.0000 - mean_absolute_error: 299579936.0000 - val_loss: 117197150563074048.0000 - val_mean_absolute_error: 242280064.0000\n",
      "Epoch 7/150\n",
      "\u001b[1m1933/1933\u001b[0m \u001b[32m━━━━━━━━━━━━━━━━━━━━\u001b[0m\u001b[37m\u001b[0m \u001b[1m4s\u001b[0m 2ms/step - loss: 130770767636856832.0000 - mean_absolute_error: 269088704.0000 - val_loss: 103465263944433664.0000 - val_mean_absolute_error: 241584000.0000\n",
      "Epoch 8/150\n",
      "\u001b[1m1933/1933\u001b[0m \u001b[32m━━━━━━━━━━━━━━━━━━━━\u001b[0m\u001b[37m\u001b[0m \u001b[1m4s\u001b[0m 2ms/step - loss: 125084583124271104.0000 - mean_absolute_error: 269761440.0000 - val_loss: 102322192758341632.0000 - val_mean_absolute_error: 242460400.0000\n",
      "Epoch 9/150\n",
      "\u001b[1m1933/1933\u001b[0m \u001b[32m━━━━━━━━━━━━━━━━━━━━\u001b[0m\u001b[37m\u001b[0m \u001b[1m4s\u001b[0m 2ms/step - loss: 125550767464513536.0000 - mean_absolute_error: 271013568.0000 - val_loss: 102303217592827904.0000 - val_mean_absolute_error: 242478848.0000\n",
      "Epoch 10/150\n",
      "\u001b[1m1933/1933\u001b[0m \u001b[32m━━━━━━━━━━━━━━━━━━━━\u001b[0m\u001b[37m\u001b[0m \u001b[1m4s\u001b[0m 2ms/step - loss: 128071724288704512.0000 - mean_absolute_error: 273632416.0000 - val_loss: 102089379761094656.0000 - val_mean_absolute_error: 242689664.0000\n",
      "Epoch 11/150\n",
      "\u001b[1m1933/1933\u001b[0m \u001b[32m━━━━━━━━━━━━━━━━━━━━\u001b[0m\u001b[37m\u001b[0m \u001b[1m4s\u001b[0m 2ms/step - loss: 125805416075493376.0000 - mean_absolute_error: 270796192.0000 - val_loss: 101762790447906816.0000 - val_mean_absolute_error: 243033936.0000\n",
      "Epoch 12/150\n",
      "\u001b[1m1933/1933\u001b[0m \u001b[32m━━━━━━━━━━━━━━━━━━━━\u001b[0m\u001b[37m\u001b[0m \u001b[1m4s\u001b[0m 2ms/step - loss: 126016737056391168.0000 - mean_absolute_error: 271723520.0000 - val_loss: 102439024458727424.0000 - val_mean_absolute_error: 242350896.0000\n",
      "Epoch 13/150\n",
      "\u001b[1m1933/1933\u001b[0m \u001b[32m━━━━━━━━━━━━━━━━━━━━\u001b[0m\u001b[37m\u001b[0m \u001b[1m4s\u001b[0m 2ms/step - loss: 127358837026979840.0000 - mean_absolute_error: 273098944.0000 - val_loss: 102213813553594368.0000 - val_mean_absolute_error: 242566032.0000\n",
      "Epoch 14/150\n",
      "\u001b[1m1933/1933\u001b[0m \u001b[32m━━━━━━━━━━━━━━━━━━━━\u001b[0m\u001b[37m\u001b[0m \u001b[1m4s\u001b[0m 2ms/step - loss: 127371696159064064.0000 - mean_absolute_error: 273947040.0000 - val_loss: 102249264213655552.0000 - val_mean_absolute_error: 242531328.0000\n",
      "Epoch 15/150\n",
      "\u001b[1m1933/1933\u001b[0m \u001b[32m━━━━━━━━━━━━━━━━━━━━\u001b[0m\u001b[37m\u001b[0m \u001b[1m4s\u001b[0m 2ms/step - loss: 126652873252536320.0000 - mean_absolute_error: 271441664.0000 - val_loss: 102156681898622976.0000 - val_mean_absolute_error: 242622288.0000\n",
      "Epoch 16/150\n",
      "\u001b[1m1933/1933\u001b[0m \u001b[32m━━━━━━━━━━━━━━━━━━━━\u001b[0m\u001b[37m\u001b[0m \u001b[1m4s\u001b[0m 2ms/step - loss: 126021684858716160.0000 - mean_absolute_error: 272077600.0000 - val_loss: 102258953659875328.0000 - val_mean_absolute_error: 242521808.0000\n",
      "Epoch 17/150\n",
      "\u001b[1m1933/1933\u001b[0m \u001b[32m━━━━━━━━━━━━━━━━━━━━\u001b[0m\u001b[37m\u001b[0m \u001b[1m4s\u001b[0m 2ms/step - loss: 129016737352908800.0000 - mean_absolute_error: 275362144.0000 - val_loss: 102336048322838528.0000 - val_mean_absolute_error: 242447232.0000\n",
      "Epoch 18/150\n",
      "\u001b[1m1933/1933\u001b[0m \u001b[32m━━━━━━━━━━━━━━━━━━━━\u001b[0m\u001b[37m\u001b[0m \u001b[1m4s\u001b[0m 2ms/step - loss: 129371501651558400.0000 - mean_absolute_error: 274367552.0000 - val_loss: 102483692118605824.0000 - val_mean_absolute_error: 242309760.0000\n",
      "Epoch 19/150\n",
      "\u001b[1m1933/1933\u001b[0m \u001b[32m━━━━━━━━━━━━━━━━━━━━\u001b[0m\u001b[37m\u001b[0m \u001b[1m4s\u001b[0m 2ms/step - loss: 126437197174800384.0000 - mean_absolute_error: 271879584.0000 - val_loss: 102169712829399040.0000 - val_mean_absolute_error: 242609488.0000\n",
      "Epoch 20/150\n",
      "\u001b[1m1933/1933\u001b[0m \u001b[32m━━━━━━━━━━━━━━━━━━━━\u001b[0m\u001b[37m\u001b[0m \u001b[1m4s\u001b[0m 2ms/step - loss: 127042392426545152.0000 - mean_absolute_error: 271701152.0000 - val_loss: 102319736037048320.0000 - val_mean_absolute_error: 242462864.0000\n",
      "Epoch 21/150\n",
      "\u001b[1m1933/1933\u001b[0m \u001b[32m━━━━━━━━━━━━━━━━━━━━\u001b[0m\u001b[37m\u001b[0m \u001b[1m4s\u001b[0m 2ms/step - loss: 127861124862312448.0000 - mean_absolute_error: 274152800.0000 - val_loss: 102201469817585664.0000 - val_mean_absolute_error: 242577984.0000\n",
      "Epoch 22/150\n",
      "\u001b[1m1933/1933\u001b[0m \u001b[32m━━━━━━━━━━━━━━━━━━━━\u001b[0m\u001b[37m\u001b[0m \u001b[1m4s\u001b[0m 2ms/step - loss: 127039145431269376.0000 - mean_absolute_error: 272231552.0000 - val_loss: 102227789377175552.0000 - val_mean_absolute_error: 242552320.0000\n",
      "Epoch 23/150\n",
      "\u001b[1m1933/1933\u001b[0m \u001b[32m━━━━━━━━━━━━━━━━━━━━\u001b[0m\u001b[37m\u001b[0m \u001b[1m4s\u001b[0m 2ms/step - loss: 126585811633176576.0000 - mean_absolute_error: 271640512.0000 - val_loss: 101973690522009600.0000 - val_mean_absolute_error: 242807440.0000\n",
      "Epoch 24/150\n",
      "\u001b[1m1933/1933\u001b[0m \u001b[32m━━━━━━━━━━━━━━━━━━━━\u001b[0m\u001b[37m\u001b[0m \u001b[1m4s\u001b[0m 2ms/step - loss: 127550753345634304.0000 - mean_absolute_error: 273045472.0000 - val_loss: 101990999240212480.0000 - val_mean_absolute_error: 242789616.0000\n",
      "Epoch 25/150\n",
      "\u001b[1m1933/1933\u001b[0m \u001b[32m━━━━━━━━━━━━━━━━━━━━\u001b[0m\u001b[37m\u001b[0m \u001b[1m4s\u001b[0m 2ms/step - loss: 125579346176901120.0000 - mean_absolute_error: 271311904.0000 - val_loss: 102179359325945856.0000 - val_mean_absolute_error: 242599952.0000\n",
      "Epoch 26/150\n",
      "\u001b[1m1933/1933\u001b[0m \u001b[32m━━━━━━━━━━━━━━━━━━━━\u001b[0m\u001b[37m\u001b[0m \u001b[1m4s\u001b[0m 2ms/step - loss: 125906064339107840.0000 - mean_absolute_error: 271561824.0000 - val_loss: 102175820272893952.0000 - val_mean_absolute_error: 242603392.0000\n",
      "Epoch 27/150\n",
      "\u001b[1m1933/1933\u001b[0m \u001b[32m━━━━━━━━━━━━━━━━━━━━\u001b[0m\u001b[37m\u001b[0m \u001b[1m4s\u001b[0m 2ms/step - loss: 126827463673118720.0000 - mean_absolute_error: 272731936.0000 - val_loss: 102446231413850112.0000 - val_mean_absolute_error: 242344256.0000\n",
      "Epoch 28/150\n",
      "\u001b[1m1933/1933\u001b[0m \u001b[32m━━━━━━━━━━━━━━━━━━━━\u001b[0m\u001b[37m\u001b[0m \u001b[1m4s\u001b[0m 2ms/step - loss: 127056935185809408.0000 - mean_absolute_error: 272599072.0000 - val_loss: 102221398465839104.0000 - val_mean_absolute_error: 242558560.0000\n",
      "Epoch 29/150\n",
      "\u001b[1m1933/1933\u001b[0m \u001b[32m━━━━━━━━━━━━━━━━━━━━\u001b[0m\u001b[37m\u001b[0m \u001b[1m4s\u001b[0m 2ms/step - loss: 128089230575403008.0000 - mean_absolute_error: 274177504.0000 - val_loss: 102053327805612032.0000 - val_mean_absolute_error: 242725888.0000\n",
      "Epoch 30/150\n",
      "\u001b[1m1933/1933\u001b[0m \u001b[32m━━━━━━━━━━━━━━━━━━━━\u001b[0m\u001b[37m\u001b[0m \u001b[1m4s\u001b[0m 2ms/step - loss: 126053381717360640.0000 - mean_absolute_error: 271974816.0000 - val_loss: 101888598629941248.0000 - val_mean_absolute_error: 242896032.0000\n",
      "Epoch 31/150\n",
      "\u001b[1m1933/1933\u001b[0m \u001b[32m━━━━━━━━━━━━━━━━━━━━\u001b[0m\u001b[37m\u001b[0m \u001b[1m4s\u001b[0m 2ms/step - loss: 127774340753129472.0000 - mean_absolute_error: 273056128.0000 - val_loss: 102061221955502080.0000 - val_mean_absolute_error: 242717984.0000\n",
      "Epoch 32/150\n",
      "\u001b[1m1933/1933\u001b[0m \u001b[32m━━━━━━━━━━━━━━━━━━━━\u001b[0m\u001b[37m\u001b[0m \u001b[1m4s\u001b[0m 2ms/step - loss: 127469526924132352.0000 - mean_absolute_error: 273569120.0000 - val_loss: 102220797170417664.0000 - val_mean_absolute_error: 242559200.0000\n",
      "Epoch 33/150\n",
      "\u001b[1m1933/1933\u001b[0m \u001b[32m━━━━━━━━━━━━━━━━━━━━\u001b[0m\u001b[37m\u001b[0m \u001b[1m4s\u001b[0m 2ms/step - loss: 126433744021094400.0000 - mean_absolute_error: 271305024.0000 - val_loss: 102398144960004096.0000 - val_mean_absolute_error: 242388896.0000\n",
      "Epoch 34/150\n",
      "\u001b[1m1933/1933\u001b[0m \u001b[32m━━━━━━━━━━━━━━━━━━━━\u001b[0m\u001b[37m\u001b[0m \u001b[1m4s\u001b[0m 2ms/step - loss: 127544800520962048.0000 - mean_absolute_error: 272851232.0000 - val_loss: 102471580310831104.0000 - val_mean_absolute_error: 242320800.0000\n",
      "Epoch 35/150\n",
      "\u001b[1m1933/1933\u001b[0m \u001b[32m━━━━━━━━━━━━━━━━━━━━\u001b[0m\u001b[37m\u001b[0m \u001b[1m4s\u001b[0m 2ms/step - loss: 125055609274892288.0000 - mean_absolute_error: 270837920.0000 - val_loss: 102152051923877888.0000 - val_mean_absolute_error: 242626896.0000\n",
      "Epoch 36/150\n",
      "\u001b[1m1933/1933\u001b[0m \u001b[32m━━━━━━━━━━━━━━━━━━━━\u001b[0m\u001b[37m\u001b[0m \u001b[1m4s\u001b[0m 2ms/step - loss: 127151158178349056.0000 - mean_absolute_error: 273288800.0000 - val_loss: 102075747534897152.0000 - val_mean_absolute_error: 242703344.0000\n",
      "Epoch 37/150\n",
      "\u001b[1m1933/1933\u001b[0m \u001b[32m━━━━━━━━━━━━━━━━━━━━\u001b[0m\u001b[37m\u001b[0m \u001b[1m4s\u001b[0m 2ms/step - loss: 126826604679659520.0000 - mean_absolute_error: 273258368.0000 - val_loss: 102133274326859776.0000 - val_mean_absolute_error: 242645696.0000\n",
      "Epoch 38/150\n",
      "\u001b[1m1933/1933\u001b[0m \u001b[32m━━━━━━━━━━━━━━━━━━━━\u001b[0m\u001b[37m\u001b[0m \u001b[1m4s\u001b[0m 2ms/step - loss: 127361267978469376.0000 - mean_absolute_error: 273446688.0000 - val_loss: 102313525514338304.0000 - val_mean_absolute_error: 242469024.0000\n",
      "Epoch 39/150\n",
      "\u001b[1m1933/1933\u001b[0m \u001b[32m━━━━━━━━━━━━━━━━━━━━\u001b[0m\u001b[37m\u001b[0m \u001b[1m4s\u001b[0m 2ms/step - loss: 126095188929019904.0000 - mean_absolute_error: 271897056.0000 - val_loss: 102196255727288320.0000 - val_mean_absolute_error: 242583232.0000\n",
      "Epoch 40/150\n",
      "\u001b[1m1933/1933\u001b[0m \u001b[32m━━━━━━━━━━━━━━━━━━━━\u001b[0m\u001b[37m\u001b[0m \u001b[1m4s\u001b[0m 2ms/step - loss: 124265524270989312.0000 - mean_absolute_error: 269390944.0000 - val_loss: 101775460601430016.0000 - val_mean_absolute_error: 243019456.0000\n",
      "Epoch 41/150\n",
      "\u001b[1m1933/1933\u001b[0m \u001b[32m━━━━━━━━━━━━━━━━━━━━\u001b[0m\u001b[37m\u001b[0m \u001b[1m4s\u001b[0m 2ms/step - loss: 124821069700792320.0000 - mean_absolute_error: 270274880.0000 - val_loss: 101775950227701760.0000 - val_mean_absolute_error: 243018624.0000\n",
      "Epoch 42/150\n",
      "\u001b[1m1933/1933\u001b[0m \u001b[32m━━━━━━━━━━━━━━━━━━━━\u001b[0m\u001b[37m\u001b[0m \u001b[1m4s\u001b[0m 2ms/step - loss: 126290670070530048.0000 - mean_absolute_error: 272563808.0000 - val_loss: 102143711097389056.0000 - val_mean_absolute_error: 242635248.0000\n",
      "Epoch 43/150\n",
      "\u001b[1m1933/1933\u001b[0m \u001b[32m━━━━━━━━━━━━━━━━━━━━\u001b[0m\u001b[37m\u001b[0m \u001b[1m4s\u001b[0m 2ms/step - loss: 127826412936626176.0000 - mean_absolute_error: 273327104.0000 - val_loss: 102252743137165312.0000 - val_mean_absolute_error: 242527984.0000\n",
      "Epoch 44/150\n",
      "\u001b[1m1933/1933\u001b[0m \u001b[32m━━━━━━━━━━━━━━━━━━━━\u001b[0m\u001b[37m\u001b[0m \u001b[1m4s\u001b[0m 2ms/step - loss: 126455974771818496.0000 - mean_absolute_error: 272513728.0000 - val_loss: 102069880609570816.0000 - val_mean_absolute_error: 242709088.0000\n",
      "Epoch 45/150\n",
      "\u001b[1m1933/1933\u001b[0m \u001b[32m━━━━━━━━━━━━━━━━━━━━\u001b[0m\u001b[37m\u001b[0m \u001b[1m4s\u001b[0m 2ms/step - loss: 126054988035129344.0000 - mean_absolute_error: 270560800.0000 - val_loss: 102151914484924416.0000 - val_mean_absolute_error: 242627104.0000\n",
      "Epoch 46/150\n",
      "\u001b[1m1933/1933\u001b[0m \u001b[32m━━━━━━━━━━━━━━━━━━━━\u001b[0m\u001b[37m\u001b[0m \u001b[1m4s\u001b[0m 2ms/step - loss: 124713893086887936.0000 - mean_absolute_error: 269371328.0000 - val_loss: 102055853246382080.0000 - val_mean_absolute_error: 242723264.0000\n",
      "Epoch 47/150\n",
      "\u001b[1m1933/1933\u001b[0m \u001b[32m━━━━━━━━━━━━━━━━━━━━\u001b[0m\u001b[37m\u001b[0m \u001b[1m4s\u001b[0m 2ms/step - loss: 126734477631160320.0000 - mean_absolute_error: 272956864.0000 - val_loss: 102395396180934656.0000 - val_mean_absolute_error: 242391472.0000\n",
      "Epoch 48/150\n",
      "\u001b[1m1933/1933\u001b[0m \u001b[32m━━━━━━━━━━━━━━━━━━━━\u001b[0m\u001b[37m\u001b[0m \u001b[1m4s\u001b[0m 2ms/step - loss: 126178992330899456.0000 - mean_absolute_error: 270880832.0000 - val_loss: 101984333450969088.0000 - val_mean_absolute_error: 242796480.0000\n",
      "Epoch 49/150\n",
      "\u001b[1m1933/1933\u001b[0m \u001b[32m━━━━━━━━━━━━━━━━━━━━\u001b[0m\u001b[37m\u001b[0m \u001b[1m4s\u001b[0m 2ms/step - loss: 124618922770038784.0000 - mean_absolute_error: 269671104.0000 - val_loss: 102116489594667008.0000 - val_mean_absolute_error: 242662352.0000\n",
      "Epoch 50/150\n",
      "\u001b[1m1933/1933\u001b[0m \u001b[32m━━━━━━━━━━━━━━━━━━━━\u001b[0m\u001b[37m\u001b[0m \u001b[1m4s\u001b[0m 2ms/step - loss: 125194963783778304.0000 - mean_absolute_error: 271163776.0000 - val_loss: 102202174192222208.0000 - val_mean_absolute_error: 242577408.0000\n",
      "Epoch 51/150\n",
      "\u001b[1m1933/1933\u001b[0m \u001b[32m━━━━━━━━━━━━━━━━━━━━\u001b[0m\u001b[37m\u001b[0m \u001b[1m4s\u001b[0m 2ms/step - loss: 126971087379496960.0000 - mean_absolute_error: 273265440.0000 - val_loss: 102240399401156608.0000 - val_mean_absolute_error: 242540048.0000\n",
      "Epoch 52/150\n",
      "\u001b[1m1933/1933\u001b[0m \u001b[32m━━━━━━━━━━━━━━━━━━━━\u001b[0m\u001b[37m\u001b[0m \u001b[1m4s\u001b[0m 2ms/step - loss: 126578493008904192.0000 - mean_absolute_error: 271398912.0000 - val_loss: 102276880853368832.0000 - val_mean_absolute_error: 242504320.0000\n",
      "Epoch 53/150\n",
      "\u001b[1m1933/1933\u001b[0m \u001b[32m━━━━━━━━━━━━━━━━━━━━\u001b[0m\u001b[37m\u001b[0m \u001b[1m4s\u001b[0m 2ms/step - loss: 126640211688947712.0000 - mean_absolute_error: 273251904.0000 - val_loss: 102371748091002880.0000 - val_mean_absolute_error: 242413552.0000\n",
      "Epoch 54/150\n",
      "\u001b[1m1933/1933\u001b[0m \u001b[32m━━━━━━━━━━━━━━━━━━━━\u001b[0m\u001b[37m\u001b[0m \u001b[1m4s\u001b[0m 2ms/step - loss: 127569805820559360.0000 - mean_absolute_error: 273013152.0000 - val_loss: 102357033533046784.0000 - val_mean_absolute_error: 242427456.0000\n",
      "Epoch 55/150\n",
      "\u001b[1m1933/1933\u001b[0m \u001b[32m━━━━━━━━━━━━━━━━━━━━\u001b[0m\u001b[37m\u001b[0m \u001b[1m4s\u001b[0m 2ms/step - loss: 124661657694633984.0000 - mean_absolute_error: 269973472.0000 - val_loss: 102042753596129280.0000 - val_mean_absolute_error: 242736576.0000\n",
      "Epoch 56/150\n",
      "\u001b[1m1933/1933\u001b[0m \u001b[32m━━━━━━━━━━━━━━━━━━━━\u001b[0m\u001b[37m\u001b[0m \u001b[1m4s\u001b[0m 2ms/step - loss: 126795328727810048.0000 - mean_absolute_error: 272308992.0000 - val_loss: 102397732643143680.0000 - val_mean_absolute_error: 242389328.0000\n",
      "Epoch 57/150\n",
      "\u001b[1m1933/1933\u001b[0m \u001b[32m━━━━━━━━━━━━━━━━━━━━\u001b[0m\u001b[37m\u001b[0m \u001b[1m4s\u001b[0m 2ms/step - loss: 129511672204230656.0000 - mean_absolute_error: 274827424.0000 - val_loss: 102443843412033536.0000 - val_mean_absolute_error: 242346448.0000\n",
      "Epoch 58/150\n",
      "\u001b[1m1933/1933\u001b[0m \u001b[32m━━━━━━━━━━━━━━━━━━━━\u001b[0m\u001b[37m\u001b[0m \u001b[1m4s\u001b[0m 2ms/step - loss: 126972350099881984.0000 - mean_absolute_error: 272865216.0000 - val_loss: 102404037655134208.0000 - val_mean_absolute_error: 242383392.0000\n",
      "Epoch 59/150\n",
      "\u001b[1m1933/1933\u001b[0m \u001b[32m━━━━━━━━━━━━━━━━━━━━\u001b[0m\u001b[37m\u001b[0m \u001b[1m4s\u001b[0m 2ms/step - loss: 124130481909268480.0000 - mean_absolute_error: 269691008.0000 - val_loss: 102229773652066304.0000 - val_mean_absolute_error: 242550240.0000\n",
      "Epoch 60/150\n",
      "\u001b[1m1933/1933\u001b[0m \u001b[32m━━━━━━━━━━━━━━━━━━━━\u001b[0m\u001b[37m\u001b[0m \u001b[1m4s\u001b[0m 2ms/step - loss: 124184847605301248.0000 - mean_absolute_error: 270069536.0000 - val_loss: 102319375259795456.0000 - val_mean_absolute_error: 242463232.0000\n",
      "Epoch 61/150\n",
      "\u001b[1m1933/1933\u001b[0m \u001b[32m━━━━━━━━━━━━━━━━━━━━\u001b[0m\u001b[37m\u001b[0m \u001b[1m4s\u001b[0m 2ms/step - loss: 125890705536057344.0000 - mean_absolute_error: 270756768.0000 - val_loss: 102360873233809408.0000 - val_mean_absolute_error: 242423696.0000\n",
      "Epoch 62/150\n",
      "\u001b[1m1933/1933\u001b[0m \u001b[32m━━━━━━━━━━━━━━━━━━━━\u001b[0m\u001b[37m\u001b[0m \u001b[1m4s\u001b[0m 2ms/step - loss: 127447639770791936.0000 - mean_absolute_error: 272811328.0000 - val_loss: 102224404942946304.0000 - val_mean_absolute_error: 242555728.0000\n",
      "Epoch 63/150\n",
      "\u001b[1m1933/1933\u001b[0m \u001b[32m━━━━━━━━━━━━━━━━━━━━\u001b[0m\u001b[37m\u001b[0m \u001b[1m4s\u001b[0m 2ms/step - loss: 126558478461304832.0000 - mean_absolute_error: 272051104.0000 - val_loss: 102149578022715392.0000 - val_mean_absolute_error: 242629344.0000\n",
      "Epoch 64/150\n",
      "\u001b[1m1933/1933\u001b[0m \u001b[32m━━━━━━━━━━━━━━━━━━━━\u001b[0m\u001b[37m\u001b[0m \u001b[1m4s\u001b[0m 2ms/step - loss: 125394757072453632.0000 - mean_absolute_error: 271256192.0000 - val_loss: 102223958266347520.0000 - val_mean_absolute_error: 242556048.0000\n",
      "Epoch 65/150\n",
      "\u001b[1m1933/1933\u001b[0m \u001b[32m━━━━━━━━━━━━━━━━━━━━\u001b[0m\u001b[37m\u001b[0m \u001b[1m4s\u001b[0m 2ms/step - loss: 127610238642683904.0000 - mean_absolute_error: 273646272.0000 - val_loss: 102407739916943360.0000 - val_mean_absolute_error: 242379952.0000\n",
      "Epoch 66/150\n",
      "\u001b[1m1933/1933\u001b[0m \u001b[32m━━━━━━━━━━━━━━━━━━━━\u001b[0m\u001b[37m\u001b[0m \u001b[1m4s\u001b[0m 2ms/step - loss: 127464768100368384.0000 - mean_absolute_error: 271891232.0000 - val_loss: 102193747466387456.0000 - val_mean_absolute_error: 242585680.0000\n",
      "Epoch 67/150\n",
      "\u001b[1m1933/1933\u001b[0m \u001b[32m━━━━━━━━━━━━━━━━━━━━\u001b[0m\u001b[37m\u001b[0m \u001b[1m4s\u001b[0m 2ms/step - loss: 125528863131303936.0000 - mean_absolute_error: 271975488.0000 - val_loss: 102361534658772992.0000 - val_mean_absolute_error: 242423264.0000\n",
      "Epoch 68/150\n",
      "\u001b[1m1933/1933\u001b[0m \u001b[32m━━━━━━━━━━━━━━━━━━━━\u001b[0m\u001b[37m\u001b[0m \u001b[1m4s\u001b[0m 2ms/step - loss: 125937271571480576.0000 - mean_absolute_error: 271830784.0000 - val_loss: 102075077519998976.0000 - val_mean_absolute_error: 242704096.0000\n",
      "Epoch 69/150\n",
      "\u001b[1m1933/1933\u001b[0m \u001b[32m━━━━━━━━━━━━━━━━━━━━\u001b[0m\u001b[37m\u001b[0m \u001b[1m4s\u001b[0m 2ms/step - loss: 127043328729415680.0000 - mean_absolute_error: 272307072.0000 - val_loss: 102102024144814080.0000 - val_mean_absolute_error: 242676880.0000\n",
      "Epoch 70/150\n",
      "\u001b[1m1933/1933\u001b[0m \u001b[32m━━━━━━━━━━━━━━━━━━━━\u001b[0m\u001b[37m\u001b[0m \u001b[1m4s\u001b[0m 2ms/step - loss: 125270271740346368.0000 - mean_absolute_error: 271022400.0000 - val_loss: 102130190540341248.0000 - val_mean_absolute_error: 242648800.0000\n",
      "Epoch 71/150\n",
      "\u001b[1m1933/1933\u001b[0m \u001b[32m━━━━━━━━━━━━━━━━━━━━\u001b[0m\u001b[37m\u001b[0m \u001b[1m4s\u001b[0m 2ms/step - loss: 125855366545145856.0000 - mean_absolute_error: 271585280.0000 - val_loss: 101893013856321536.0000 - val_mean_absolute_error: 242891376.0000\n",
      "Epoch 72/150\n",
      "\u001b[1m1933/1933\u001b[0m \u001b[32m━━━━━━━━━━━━━━━━━━━━\u001b[0m\u001b[37m\u001b[0m \u001b[1m4s\u001b[0m 2ms/step - loss: 127042684484321280.0000 - mean_absolute_error: 273173248.0000 - val_loss: 102028554434248704.0000 - val_mean_absolute_error: 242750960.0000\n",
      "Epoch 73/150\n",
      "\u001b[1m1933/1933\u001b[0m \u001b[32m━━━━━━━━━━━━━━━━━━━━\u001b[0m\u001b[37m\u001b[0m \u001b[1m4s\u001b[0m 2ms/step - loss: 125691676751560704.0000 - mean_absolute_error: 270957632.0000 - val_loss: 102039944687517696.0000 - val_mean_absolute_error: 242739472.0000\n",
      "Epoch 74/150\n",
      "\u001b[1m1933/1933\u001b[0m \u001b[32m━━━━━━━━━━━━━━━━━━━━\u001b[0m\u001b[37m\u001b[0m \u001b[1m4s\u001b[0m 2ms/step - loss: 127021037849149440.0000 - mean_absolute_error: 271932800.0000 - val_loss: 102166637632815104.0000 - val_mean_absolute_error: 242612256.0000\n",
      "Epoch 75/150\n",
      "\u001b[1m1933/1933\u001b[0m \u001b[32m━━━━━━━━━━━━━━━━━━━━\u001b[0m\u001b[37m\u001b[0m \u001b[1m4s\u001b[0m 2ms/step - loss: 128207101657874432.0000 - mean_absolute_error: 273763680.0000 - val_loss: 102027205814517760.0000 - val_mean_absolute_error: 242752576.0000\n",
      "Epoch 76/150\n",
      "\u001b[1m1933/1933\u001b[0m \u001b[32m━━━━━━━━━━━━━━━━━━━━\u001b[0m\u001b[37m\u001b[0m \u001b[1m4s\u001b[0m 2ms/step - loss: 126447530866114560.0000 - mean_absolute_error: 271991168.0000 - val_loss: 102098089954770944.0000 - val_mean_absolute_error: 242680752.0000\n",
      "Epoch 77/150\n",
      "\u001b[1m1933/1933\u001b[0m \u001b[32m━━━━━━━━━━━━━━━━━━━━\u001b[0m\u001b[37m\u001b[0m \u001b[1m4s\u001b[0m 2ms/step - loss: 124698852111417344.0000 - mean_absolute_error: 269696160.0000 - val_loss: 102223992626085888.0000 - val_mean_absolute_error: 242556032.0000\n",
      "Epoch 78/150\n",
      "\u001b[1m1933/1933\u001b[0m \u001b[32m━━━━━━━━━━━━━━━━━━━━\u001b[0m\u001b[37m\u001b[0m \u001b[1m4s\u001b[0m 2ms/step - loss: 127532465374887936.0000 - mean_absolute_error: 272520032.0000 - val_loss: 102161749960032256.0000 - val_mean_absolute_error: 242617264.0000\n",
      "Epoch 79/150\n",
      "\u001b[1m1933/1933\u001b[0m \u001b[32m━━━━━━━━━━━━━━━━━━━━\u001b[0m\u001b[37m\u001b[0m \u001b[1m4s\u001b[0m 2ms/step - loss: 126833193159491584.0000 - mean_absolute_error: 272284480.0000 - val_loss: 102165452221841408.0000 - val_mean_absolute_error: 242613712.0000\n",
      "Epoch 80/150\n",
      "\u001b[1m1933/1933\u001b[0m \u001b[32m━━━━━━━━━━━━━━━━━━━━\u001b[0m\u001b[37m\u001b[0m \u001b[1m4s\u001b[0m 2ms/step - loss: 127007895249223680.0000 - mean_absolute_error: 273193088.0000 - val_loss: 102146683214757888.0000 - val_mean_absolute_error: 242632320.0000\n",
      "Epoch 81/150\n",
      "\u001b[1m1933/1933\u001b[0m \u001b[32m━━━━━━━━━━━━━━━━━━━━\u001b[0m\u001b[37m\u001b[0m \u001b[1m4s\u001b[0m 2ms/step - loss: 125150339073572864.0000 - mean_absolute_error: 269759040.0000 - val_loss: 102190715219476480.0000 - val_mean_absolute_error: 242588736.0000\n",
      "Epoch 82/150\n",
      "\u001b[1m1933/1933\u001b[0m \u001b[32m━━━━━━━━━━━━━━━━━━━━\u001b[0m\u001b[37m\u001b[0m \u001b[1m4s\u001b[0m 2ms/step - loss: 125071354624999424.0000 - mean_absolute_error: 270345344.0000 - val_loss: 102394794885513216.0000 - val_mean_absolute_error: 242391984.0000\n",
      "Epoch 83/150\n",
      "\u001b[1m1933/1933\u001b[0m \u001b[32m━━━━━━━━━━━━━━━━━━━━\u001b[0m\u001b[37m\u001b[0m \u001b[1m4s\u001b[0m 2ms/step - loss: 128511193932365824.0000 - mean_absolute_error: 274194400.0000 - val_loss: 102545565417472000.0000 - val_mean_absolute_error: 242252864.0000\n",
      "Epoch 84/150\n",
      "\u001b[1m1933/1933\u001b[0m \u001b[32m━━━━━━━━━━━━━━━━━━━━\u001b[0m\u001b[37m\u001b[0m \u001b[1m4s\u001b[0m 2ms/step - loss: 125590495912001536.0000 - mean_absolute_error: 271998144.0000 - val_loss: 102154920962031616.0000 - val_mean_absolute_error: 242624048.0000\n",
      "Epoch 85/150\n",
      "\u001b[1m1933/1933\u001b[0m \u001b[32m━━━━━━━━━━━━━━━━━━━━\u001b[0m\u001b[37m\u001b[0m \u001b[1m4s\u001b[0m 2ms/step - loss: 126299620782374912.0000 - mean_absolute_error: 271319424.0000 - val_loss: 102204081157701632.0000 - val_mean_absolute_error: 242575568.0000\n",
      "Epoch 86/150\n",
      "\u001b[1m1933/1933\u001b[0m \u001b[32m━━━━━━━━━━━━━━━━━━━━\u001b[0m\u001b[37m\u001b[0m \u001b[1m4s\u001b[0m 2ms/step - loss: 126967050110238720.0000 - mean_absolute_error: 273706080.0000 - val_loss: 102189469678960640.0000 - val_mean_absolute_error: 242590032.0000\n",
      "Epoch 87/150\n",
      "\u001b[1m1933/1933\u001b[0m \u001b[32m━━━━━━━━━━━━━━━━━━━━\u001b[0m\u001b[37m\u001b[0m \u001b[1m4s\u001b[0m 2ms/step - loss: 126855114672570368.0000 - mean_absolute_error: 272406560.0000 - val_loss: 102386471238893568.0000 - val_mean_absolute_error: 242399744.0000\n",
      "Epoch 88/150\n",
      "\u001b[1m1933/1933\u001b[0m \u001b[32m━━━━━━━━━━━━━━━━━━━━\u001b[0m\u001b[37m\u001b[0m \u001b[1m4s\u001b[0m 2ms/step - loss: 127202964073873408.0000 - mean_absolute_error: 273052480.0000 - val_loss: 102548357146214400.0000 - val_mean_absolute_error: 242250224.0000\n",
      "Epoch 89/150\n",
      "\u001b[1m1933/1933\u001b[0m \u001b[32m━━━━━━━━━━━━━━━━━━━━\u001b[0m\u001b[37m\u001b[0m \u001b[1m4s\u001b[0m 2ms/step - loss: 126166030119600128.0000 - mean_absolute_error: 271098112.0000 - val_loss: 101846722698805248.0000 - val_mean_absolute_error: 242940240.0000\n",
      "Epoch 90/150\n",
      "\u001b[1m1933/1933\u001b[0m \u001b[32m━━━━━━━━━━━━━━━━━━━━\u001b[0m\u001b[37m\u001b[0m \u001b[1m4s\u001b[0m 2ms/step - loss: 126267872384122880.0000 - mean_absolute_error: 271929344.0000 - val_loss: 102417377823555584.0000 - val_mean_absolute_error: 242371024.0000\n",
      "Epoch 91/150\n",
      "\u001b[1m1933/1933\u001b[0m \u001b[32m━━━━━━━━━━━━━━━━━━━━\u001b[0m\u001b[37m\u001b[0m \u001b[1m4s\u001b[0m 2ms/step - loss: 125715118683062272.0000 - mean_absolute_error: 271954048.0000 - val_loss: 102158958231289856.0000 - val_mean_absolute_error: 242620144.0000\n",
      "Epoch 92/150\n",
      "\u001b[1m1933/1933\u001b[0m \u001b[32m━━━━━━━━━━━━━━━━━━━━\u001b[0m\u001b[37m\u001b[0m \u001b[1m4s\u001b[0m 2ms/step - loss: 125618902825697280.0000 - mean_absolute_error: 270802496.0000 - val_loss: 102256960795049984.0000 - val_mean_absolute_error: 242523728.0000\n",
      "Epoch 93/150\n",
      "\u001b[1m1933/1933\u001b[0m \u001b[32m━━━━━━━━━━━━━━━━━━━━\u001b[0m\u001b[37m\u001b[0m \u001b[1m4s\u001b[0m 2ms/step - loss: 127874928887201792.0000 - mean_absolute_error: 273346016.0000 - val_loss: 102067355168800768.0000 - val_mean_absolute_error: 242711760.0000\n",
      "Epoch 94/150\n",
      "\u001b[1m1933/1933\u001b[0m \u001b[32m━━━━━━━━━━━━━━━━━━━━\u001b[0m\u001b[37m\u001b[0m \u001b[1m4s\u001b[0m 2ms/step - loss: 125876549323849728.0000 - mean_absolute_error: 271292096.0000 - val_loss: 102106868867923968.0000 - val_mean_absolute_error: 242672048.0000\n",
      "Epoch 95/150\n",
      "\u001b[1m1933/1933\u001b[0m \u001b[32m━━━━━━━━━━━━━━━━━━━━\u001b[0m\u001b[37m\u001b[0m \u001b[1m4s\u001b[0m 2ms/step - loss: 126951433609150464.0000 - mean_absolute_error: 272044960.0000 - val_loss: 102011924320878592.0000 - val_mean_absolute_error: 242768192.0000\n",
      "Epoch 96/150\n",
      "\u001b[1m1933/1933\u001b[0m \u001b[32m━━━━━━━━━━━━━━━━━━━━\u001b[0m\u001b[37m\u001b[0m \u001b[1m4s\u001b[0m 2ms/step - loss: 126113236381597696.0000 - mean_absolute_error: 272539712.0000 - val_loss: 102231079322124288.0000 - val_mean_absolute_error: 242549120.0000\n",
      "Epoch 97/150\n",
      "\u001b[1m1933/1933\u001b[0m \u001b[32m━━━━━━━━━━━━━━━━━━━━\u001b[0m\u001b[37m\u001b[0m \u001b[1m4s\u001b[0m 2ms/step - loss: 126368804115578880.0000 - mean_absolute_error: 271879392.0000 - val_loss: 102288133667684352.0000 - val_mean_absolute_error: 242493648.0000\n",
      "Epoch 98/150\n",
      "\u001b[1m1933/1933\u001b[0m \u001b[32m━━━━━━━━━━━━━━━━━━━━\u001b[0m\u001b[37m\u001b[0m \u001b[1m4s\u001b[0m 2ms/step - loss: 129245607570178048.0000 - mean_absolute_error: 274894208.0000 - val_loss: 102294868176404480.0000 - val_mean_absolute_error: 242486944.0000\n",
      "Epoch 99/150\n",
      "\u001b[1m1933/1933\u001b[0m \u001b[32m━━━━━━━━━━━━━━━━━━━━\u001b[0m\u001b[37m\u001b[0m \u001b[1m4s\u001b[0m 2ms/step - loss: 126944656150757376.0000 - mean_absolute_error: 272076608.0000 - val_loss: 102466958926020608.0000 - val_mean_absolute_error: 242324880.0000\n",
      "Epoch 100/150\n",
      "\u001b[1m1933/1933\u001b[0m \u001b[32m━━━━━━━━━━━━━━━━━━━━\u001b[0m\u001b[37m\u001b[0m \u001b[1m4s\u001b[0m 2ms/step - loss: 125231410876252160.0000 - mean_absolute_error: 270519520.0000 - val_loss: 102321643002527744.0000 - val_mean_absolute_error: 242461168.0000\n",
      "Epoch 101/150\n",
      "\u001b[1m1933/1933\u001b[0m \u001b[32m━━━━━━━━━━━━━━━━━━━━\u001b[0m\u001b[37m\u001b[0m \u001b[1m4s\u001b[0m 2ms/step - loss: 128284806206193664.0000 - mean_absolute_error: 275022080.0000 - val_loss: 102078453364293632.0000 - val_mean_absolute_error: 242700624.0000\n",
      "Epoch 102/150\n",
      "\u001b[1m1933/1933\u001b[0m \u001b[32m━━━━━━━━━━━━━━━━━━━━\u001b[0m\u001b[37m\u001b[0m \u001b[1m4s\u001b[0m 2ms/step - loss: 123846971118059520.0000 - mean_absolute_error: 268944800.0000 - val_loss: 102296096537051136.0000 - val_mean_absolute_error: 242485712.0000\n",
      "Epoch 103/150\n",
      "\u001b[1m1933/1933\u001b[0m \u001b[32m━━━━━━━━━━━━━━━━━━━━\u001b[0m\u001b[37m\u001b[0m \u001b[1m4s\u001b[0m 2ms/step - loss: 124158132908720128.0000 - mean_absolute_error: 268901280.0000 - val_loss: 102451488453820416.0000 - val_mean_absolute_error: 242339360.0000\n",
      "Epoch 104/150\n",
      "\u001b[1m1933/1933\u001b[0m \u001b[32m━━━━━━━━━━━━━━━━━━━━\u001b[0m\u001b[37m\u001b[0m \u001b[1m4s\u001b[0m 2ms/step - loss: 127315208749187072.0000 - mean_absolute_error: 272368128.0000 - val_loss: 102361689277595648.0000 - val_mean_absolute_error: 242423152.0000\n",
      "Epoch 105/150\n",
      "\u001b[1m1933/1933\u001b[0m \u001b[32m━━━━━━━━━━━━━━━━━━━━\u001b[0m\u001b[37m\u001b[0m \u001b[1m4s\u001b[0m 2ms/step - loss: 125763729122918400.0000 - mean_absolute_error: 271163744.0000 - val_loss: 102081245093036032.0000 - val_mean_absolute_error: 242697744.0000\n",
      "Epoch 106/150\n",
      "\u001b[1m1933/1933\u001b[0m \u001b[32m━━━━━━━━━━━━━━━━━━━━\u001b[0m\u001b[37m\u001b[0m \u001b[1m4s\u001b[0m 2ms/step - loss: 127747376948445184.0000 - mean_absolute_error: 273132160.0000 - val_loss: 102515492056465408.0000 - val_mean_absolute_error: 242280512.0000\n",
      "Epoch 107/150\n",
      "\u001b[1m1933/1933\u001b[0m \u001b[32m━━━━━━━━━━━━━━━━━━━━\u001b[0m\u001b[37m\u001b[0m \u001b[1m4s\u001b[0m 2ms/step - loss: 125603449533366272.0000 - mean_absolute_error: 270575008.0000 - val_loss: 102172495968206848.0000 - val_mean_absolute_error: 242606736.0000\n",
      "Epoch 108/150\n",
      "\u001b[1m1933/1933\u001b[0m \u001b[32m━━━━━━━━━━━━━━━━━━━━\u001b[0m\u001b[37m\u001b[0m \u001b[1m4s\u001b[0m 2ms/step - loss: 126616340260716544.0000 - mean_absolute_error: 271165440.0000 - val_loss: 102187743102107648.0000 - val_mean_absolute_error: 242591520.0000\n",
      "Epoch 109/150\n",
      "\u001b[1m1933/1933\u001b[0m \u001b[32m━━━━━━━━━━━━━━━━━━━━\u001b[0m\u001b[37m\u001b[0m \u001b[1m4s\u001b[0m 2ms/step - loss: 125556548490493952.0000 - mean_absolute_error: 270405952.0000 - val_loss: 102136744660434944.0000 - val_mean_absolute_error: 242642176.0000\n",
      "Epoch 110/150\n",
      "\u001b[1m1933/1933\u001b[0m \u001b[32m━━━━━━━━━━━━━━━━━━━━\u001b[0m\u001b[37m\u001b[0m \u001b[1m4s\u001b[0m 2ms/step - loss: 127302478466121728.0000 - mean_absolute_error: 272852192.0000 - val_loss: 102069554192056320.0000 - val_mean_absolute_error: 242709456.0000\n",
      "Epoch 111/150\n",
      "\u001b[1m1933/1933\u001b[0m \u001b[32m━━━━━━━━━━━━━━━━━━━━\u001b[0m\u001b[37m\u001b[0m \u001b[1m4s\u001b[0m 2ms/step - loss: 125526827316805632.0000 - mean_absolute_error: 271753344.0000 - val_loss: 102397182887329792.0000 - val_mean_absolute_error: 242389808.0000\n",
      "Epoch 112/150\n",
      "\u001b[1m1933/1933\u001b[0m \u001b[32m━━━━━━━━━━━━━━━━━━━━\u001b[0m\u001b[37m\u001b[0m \u001b[1m4s\u001b[0m 2ms/step - loss: 127484559309668352.0000 - mean_absolute_error: 272835296.0000 - val_loss: 102422428705095680.0000 - val_mean_absolute_error: 242366288.0000\n",
      "Epoch 113/150\n",
      "\u001b[1m1933/1933\u001b[0m \u001b[32m━━━━━━━━━━━━━━━━━━━━\u001b[0m\u001b[37m\u001b[0m \u001b[1m4s\u001b[0m 2ms/step - loss: 129597726168973312.0000 - mean_absolute_error: 275461984.0000 - val_loss: 102336228711464960.0000 - val_mean_absolute_error: 242446944.0000\n",
      "Epoch 114/150\n",
      "\u001b[1m1933/1933\u001b[0m \u001b[32m━━━━━━━━━━━━━━━━━━━━\u001b[0m\u001b[37m\u001b[0m \u001b[1m4s\u001b[0m 2ms/step - loss: 125892878789509120.0000 - mean_absolute_error: 271663488.0000 - val_loss: 102363948430393344.0000 - val_mean_absolute_error: 242420896.0000\n",
      "Epoch 115/150\n",
      "\u001b[1m1933/1933\u001b[0m \u001b[32m━━━━━━━━━━━━━━━━━━━━\u001b[0m\u001b[37m\u001b[0m \u001b[1m4s\u001b[0m 2ms/step - loss: 129257650658476032.0000 - mean_absolute_error: 275067264.0000 - val_loss: 102306799595552768.0000 - val_mean_absolute_error: 242475328.0000\n",
      "Epoch 116/150\n",
      "\u001b[1m1933/1933\u001b[0m \u001b[32m━━━━━━━━━━━━━━━━━━━━\u001b[0m\u001b[37m\u001b[0m \u001b[1m4s\u001b[0m 2ms/step - loss: 127918127668264960.0000 - mean_absolute_error: 271305888.0000 - val_loss: 102399742687838208.0000 - val_mean_absolute_error: 242387488.0000\n",
      "Epoch 117/150\n",
      "\u001b[1m1933/1933\u001b[0m \u001b[32m━━━━━━━━━━━━━━━━━━━━\u001b[0m\u001b[37m\u001b[0m \u001b[1m4s\u001b[0m 2ms/step - loss: 122862504484274176.0000 - mean_absolute_error: 267624848.0000 - val_loss: 102013393199693824.0000 - val_mean_absolute_error: 242766704.0000\n",
      "Epoch 118/150\n",
      "\u001b[1m1933/1933\u001b[0m \u001b[32m━━━━━━━━━━━━━━━━━━━━\u001b[0m\u001b[37m\u001b[0m \u001b[1m4s\u001b[0m 2ms/step - loss: 124376188398338048.0000 - mean_absolute_error: 269844448.0000 - val_loss: 102289465107546112.0000 - val_mean_absolute_error: 242492208.0000\n",
      "Epoch 119/150\n",
      "\u001b[1m1933/1933\u001b[0m \u001b[32m━━━━━━━━━━━━━━━━━━━━\u001b[0m\u001b[37m\u001b[0m \u001b[1m4s\u001b[0m 2ms/step - loss: 127027978516299776.0000 - mean_absolute_error: 272612608.0000 - val_loss: 102276889443303424.0000 - val_mean_absolute_error: 242504272.0000\n",
      "Epoch 120/150\n",
      "\u001b[1m1933/1933\u001b[0m \u001b[32m━━━━━━━━━━━━━━━━━━━━\u001b[0m\u001b[37m\u001b[0m \u001b[1m4s\u001b[0m 2ms/step - loss: 126788018693472256.0000 - mean_absolute_error: 271769472.0000 - val_loss: 102058576255647744.0000 - val_mean_absolute_error: 242720608.0000\n",
      "Epoch 121/150\n",
      "\u001b[1m1933/1933\u001b[0m \u001b[32m━━━━━━━━━━━━━━━━━━━━\u001b[0m\u001b[37m\u001b[0m \u001b[1m4s\u001b[0m 2ms/step - loss: 128166582936403968.0000 - mean_absolute_error: 273720736.0000 - val_loss: 102552506084622336.0000 - val_mean_absolute_error: 242246640.0000\n",
      "Epoch 122/150\n",
      "\u001b[1m1933/1933\u001b[0m \u001b[32m━━━━━━━━━━━━━━━━━━━━\u001b[0m\u001b[37m\u001b[0m \u001b[1m4s\u001b[0m 2ms/step - loss: 126303855620128768.0000 - mean_absolute_error: 271096256.0000 - val_loss: 102285926054494208.0000 - val_mean_absolute_error: 242495600.0000\n",
      "Epoch 123/150\n",
      "\u001b[1m1933/1933\u001b[0m \u001b[32m━━━━━━━━━━━━━━━━━━━━\u001b[0m\u001b[37m\u001b[0m \u001b[1m4s\u001b[0m 2ms/step - loss: 126029707857625088.0000 - mean_absolute_error: 271790944.0000 - val_loss: 101991952722952192.0000 - val_mean_absolute_error: 242788544.0000\n",
      "Epoch 124/150\n",
      "\u001b[1m1933/1933\u001b[0m \u001b[32m━━━━━━━━━━━━━━━━━━━━\u001b[0m\u001b[37m\u001b[0m \u001b[1m4s\u001b[0m 2ms/step - loss: 126511972555423744.0000 - mean_absolute_error: 272465504.0000 - val_loss: 102300150986178560.0000 - val_mean_absolute_error: 242481728.0000\n",
      "Epoch 125/150\n",
      "\u001b[1m1933/1933\u001b[0m \u001b[32m━━━━━━━━━━━━━━━━━━━━\u001b[0m\u001b[37m\u001b[0m \u001b[1m4s\u001b[0m 2ms/step - loss: 128885139554959360.0000 - mean_absolute_error: 274524128.0000 - val_loss: 102381188429119488.0000 - val_mean_absolute_error: 242404800.0000\n",
      "Epoch 126/150\n",
      "\u001b[1m1933/1933\u001b[0m \u001b[32m━━━━━━━━━━━━━━━━━━━━\u001b[0m\u001b[37m\u001b[0m \u001b[1m4s\u001b[0m 2ms/step - loss: 126670577107730432.0000 - mean_absolute_error: 271805696.0000 - val_loss: 102376601404047360.0000 - val_mean_absolute_error: 242409136.0000\n",
      "Epoch 127/150\n",
      "\u001b[1m1933/1933\u001b[0m \u001b[32m━━━━━━━━━━━━━━━━━━━━\u001b[0m\u001b[37m\u001b[0m \u001b[1m4s\u001b[0m 2ms/step - loss: 128354041079005184.0000 - mean_absolute_error: 273317728.0000 - val_loss: 102511214269038592.0000 - val_mean_absolute_error: 242284240.0000\n",
      "Epoch 128/150\n",
      "\u001b[1m1933/1933\u001b[0m \u001b[32m━━━━━━━━━━━━━━━━━━━━\u001b[0m\u001b[37m\u001b[0m \u001b[1m4s\u001b[0m 2ms/step - loss: 127270017103298560.0000 - mean_absolute_error: 271677024.0000 - val_loss: 102321969420042240.0000 - val_mean_absolute_error: 242460720.0000\n",
      "Epoch 129/150\n",
      "\u001b[1m1933/1933\u001b[0m \u001b[32m━━━━━━━━━━━━━━━━━━━━\u001b[0m\u001b[37m\u001b[0m \u001b[1m4s\u001b[0m 2ms/step - loss: 126574515869188096.0000 - mean_absolute_error: 272609696.0000 - val_loss: 102518343914749952.0000 - val_mean_absolute_error: 242277856.0000\n",
      "Epoch 130/150\n",
      "\u001b[1m1933/1933\u001b[0m \u001b[32m━━━━━━━━━━━━━━━━━━━━\u001b[0m\u001b[37m\u001b[0m \u001b[1m4s\u001b[0m 2ms/step - loss: 126296768924090368.0000 - mean_absolute_error: 271199040.0000 - val_loss: 101988671367938048.0000 - val_mean_absolute_error: 242791952.0000\n",
      "Epoch 131/150\n",
      "\u001b[1m1933/1933\u001b[0m \u001b[32m━━━━━━━━━━━━━━━━━━━━\u001b[0m\u001b[37m\u001b[0m \u001b[1m4s\u001b[0m 2ms/step - loss: 127962975716769792.0000 - mean_absolute_error: 273092192.0000 - val_loss: 102347009079377920.0000 - val_mean_absolute_error: 242436832.0000\n",
      "Epoch 132/150\n",
      "\u001b[1m1933/1933\u001b[0m \u001b[32m━━━━━━━━━━━━━━━━━━━━\u001b[0m\u001b[37m\u001b[0m \u001b[1m4s\u001b[0m 2ms/step - loss: 126370719670992896.0000 - mean_absolute_error: 272926624.0000 - val_loss: 102168450109014016.0000 - val_mean_absolute_error: 242610768.0000\n",
      "Epoch 133/150\n",
      "\u001b[1m1933/1933\u001b[0m \u001b[32m━━━━━━━━━━━━━━━━━━━━\u001b[0m\u001b[37m\u001b[0m \u001b[1m4s\u001b[0m 2ms/step - loss: 127389709251903488.0000 - mean_absolute_error: 273361952.0000 - val_loss: 102615556204527616.0000 - val_mean_absolute_error: 242189376.0000\n",
      "Epoch 134/150\n",
      "\u001b[1m1933/1933\u001b[0m \u001b[32m━━━━━━━━━━━━━━━━━━━━\u001b[0m\u001b[37m\u001b[0m \u001b[1m4s\u001b[0m 2ms/step - loss: 125177620705837056.0000 - mean_absolute_error: 269605888.0000 - val_loss: 102035134324146176.0000 - val_mean_absolute_error: 242744400.0000\n",
      "Epoch 135/150\n",
      "\u001b[1m1933/1933\u001b[0m \u001b[32m━━━━━━━━━━━━━━━━━━━━\u001b[0m\u001b[37m\u001b[0m \u001b[1m4s\u001b[0m 2ms/step - loss: 127226002278449152.0000 - mean_absolute_error: 272981376.0000 - val_loss: 102355375675670528.0000 - val_mean_absolute_error: 242428912.0000\n",
      "Epoch 136/150\n",
      "\u001b[1m1933/1933\u001b[0m \u001b[32m━━━━━━━━━━━━━━━━━━━━\u001b[0m\u001b[37m\u001b[0m \u001b[1m4s\u001b[0m 2ms/step - loss: 126277810938445824.0000 - mean_absolute_error: 271922560.0000 - val_loss: 102292514534326272.0000 - val_mean_absolute_error: 242489312.0000\n",
      "Epoch 137/150\n",
      "\u001b[1m1933/1933\u001b[0m \u001b[32m━━━━━━━━━━━━━━━━━━━━\u001b[0m\u001b[37m\u001b[0m \u001b[1m4s\u001b[0m 2ms/step - loss: 126183983082897408.0000 - mean_absolute_error: 272610912.0000 - val_loss: 102609165293191168.0000 - val_mean_absolute_error: 242195328.0000\n",
      "Epoch 138/150\n",
      "\u001b[1m1933/1933\u001b[0m \u001b[32m━━━━━━━━━━━━━━━━━━━━\u001b[0m\u001b[37m\u001b[0m \u001b[1m4s\u001b[0m 2ms/step - loss: 125691668161626112.0000 - mean_absolute_error: 270575264.0000 - val_loss: 102274853628805120.0000 - val_mean_absolute_error: 242506224.0000\n",
      "Epoch 139/150\n",
      "\u001b[1m1933/1933\u001b[0m \u001b[32m━━━━━━━━━━━━━━━━━━━━\u001b[0m\u001b[37m\u001b[0m \u001b[1m4s\u001b[0m 2ms/step - loss: 128087916315410432.0000 - mean_absolute_error: 273406464.0000 - val_loss: 102236001354645504.0000 - val_mean_absolute_error: 242544176.0000\n",
      "Epoch 140/150\n",
      "\u001b[1m1933/1933\u001b[0m \u001b[32m━━━━━━━━━━━━━━━━━━━━\u001b[0m\u001b[37m\u001b[0m \u001b[1m4s\u001b[0m 2ms/step - loss: 125849113072762880.0000 - mean_absolute_error: 270943648.0000 - val_loss: 102552480314818560.0000 - val_mean_absolute_error: 242246688.0000\n",
      "Epoch 141/150\n",
      "\u001b[1m1933/1933\u001b[0m \u001b[32m━━━━━━━━━━━━━━━━━━━━\u001b[0m\u001b[37m\u001b[0m \u001b[1m4s\u001b[0m 2ms/step - loss: 127976238575779840.0000 - mean_absolute_error: 274116800.0000 - val_loss: 102228777219653632.0000 - val_mean_absolute_error: 242551376.0000\n",
      "Epoch 142/150\n",
      "\u001b[1m1933/1933\u001b[0m \u001b[32m━━━━━━━━━━━━━━━━━━━━\u001b[0m\u001b[37m\u001b[0m \u001b[1m4s\u001b[0m 2ms/step - loss: 127282695846756352.0000 - mean_absolute_error: 272774400.0000 - val_loss: 102131942886998016.0000 - val_mean_absolute_error: 242646656.0000\n",
      "Epoch 143/150\n",
      "\u001b[1m1933/1933\u001b[0m \u001b[32m━━━━━━━━━━━━━━━━━━━━\u001b[0m\u001b[37m\u001b[0m \u001b[1m4s\u001b[0m 2ms/step - loss: 123992836797366272.0000 - mean_absolute_error: 269090432.0000 - val_loss: 102047856017276928.0000 - val_mean_absolute_error: 242731600.0000\n",
      "Epoch 144/150\n",
      "\u001b[1m1933/1933\u001b[0m \u001b[32m━━━━━━━━━━━━━━━━━━━━\u001b[0m\u001b[37m\u001b[0m \u001b[1m4s\u001b[0m 2ms/step - loss: 126232997249679360.0000 - mean_absolute_error: 271823488.0000 - val_loss: 102344552358084608.0000 - val_mean_absolute_error: 242439216.0000\n",
      "Epoch 145/150\n",
      "\u001b[1m1933/1933\u001b[0m \u001b[32m━━━━━━━━━━━━━━━━━━━━\u001b[0m\u001b[37m\u001b[0m \u001b[1m4s\u001b[0m 2ms/step - loss: 126565530797604864.0000 - mean_absolute_error: 271692032.0000 - val_loss: 102258438263799808.0000 - val_mean_absolute_error: 242522272.0000\n",
      "Epoch 146/150\n",
      "\u001b[1m1933/1933\u001b[0m \u001b[32m━━━━━━━━━━━━━━━━━━━━\u001b[0m\u001b[37m\u001b[0m \u001b[1m4s\u001b[0m 2ms/step - loss: 126438210787082240.0000 - mean_absolute_error: 272759808.0000 - val_loss: 102438251364614144.0000 - val_mean_absolute_error: 242351440.0000\n",
      "Epoch 147/150\n",
      "\u001b[1m1933/1933\u001b[0m \u001b[32m━━━━━━━━━━━━━━━━━━━━\u001b[0m\u001b[37m\u001b[0m \u001b[1m4s\u001b[0m 2ms/step - loss: 123714763434754048.0000 - mean_absolute_error: 268254192.0000 - val_loss: 102220384853557248.0000 - val_mean_absolute_error: 242559472.0000\n",
      "Epoch 148/150\n",
      "\u001b[1m1933/1933\u001b[0m \u001b[32m━━━━━━━━━━━━━━━━━━━━\u001b[0m\u001b[37m\u001b[0m \u001b[1m4s\u001b[0m 2ms/step - loss: 125347864619515904.0000 - mean_absolute_error: 270936768.0000 - val_loss: 102265902916960256.0000 - val_mean_absolute_error: 242515120.0000\n",
      "Epoch 149/150\n",
      "\u001b[1m1933/1933\u001b[0m \u001b[32m━━━━━━━━━━━━━━━━━━━━\u001b[0m\u001b[37m\u001b[0m \u001b[1m4s\u001b[0m 2ms/step - loss: 129670474325032960.0000 - mean_absolute_error: 276182496.0000 - val_loss: 102826937314967552.0000 - val_mean_absolute_error: 242001744.0000\n",
      "Epoch 150/150\n",
      "\u001b[1m1933/1933\u001b[0m \u001b[32m━━━━━━━━━━━━━━━━━━━━\u001b[0m\u001b[37m\u001b[0m \u001b[1m4s\u001b[0m 2ms/step - loss: 126409537585414144.0000 - mean_absolute_error: 271281760.0000 - val_loss: 102502787543203840.0000 - val_mean_absolute_error: 242292048.0000\n"
     ]
    }
   ],
   "source": [
    "# Entrenar el modelo\n",
    "history = model.fit(\n",
    "    X_train, y_train,\n",
    "    validation_data=(X_val, y_val),\n",
    "    epochs=150,\n",
    "    batch_size=16,\n",
    "    verbose=1\n",
    ")\n"
   ]
  },
  {
   "cell_type": "markdown",
   "metadata": {},
   "source": [
    "Evaluar"
   ]
  },
  {
   "cell_type": "code",
   "execution_count": 9,
   "metadata": {},
   "outputs": [
    {
     "name": "stdout",
     "output_type": "stream",
     "text": [
      "\u001b[1m242/242\u001b[0m \u001b[32m━━━━━━━━━━━━━━━━━━━━\u001b[0m\u001b[37m\u001b[0m \u001b[1m0s\u001b[0m 1ms/step\n",
      "Red Neuronal - RMSE: 320160631.35, MAE: 242292038.23\n"
     ]
    }
   ],
   "source": [
    "from sklearn.metrics import mean_squared_error, mean_absolute_error\n",
    "import numpy as np\n",
    "\n",
    "# Predicciones en validación\n",
    "y_val_pred = model.predict(X_val)\n",
    "# Calcular métricas\n",
    "rmse = np.sqrt(mean_squared_error(y_val, y_val_pred))\n",
    "mae = mean_absolute_error(y_val, y_val_pred)\n",
    "\n",
    "print(f\"Red Neuronal - RMSE: {rmse:.2f}, MAE: {mae:.2f}\")\n",
    "\n"
   ]
  },
  {
   "cell_type": "code",
   "execution_count": 10,
   "metadata": {},
   "outputs": [
    {
     "data": {
      "image/png": "[encoded data removed]",
      "text/plain": [
       "<Figure size 1000x600 with 1 Axes>"
      ]
     },
     "metadata": {},
     "output_type": "display_data"
    }
   ],
   "source": [
    "import matplotlib.pyplot as plt\n",
    "# Scatter plot: valores reales vs predichos\n",
    "plt.figure(figsize=(10, 6))\n",
    "plt.scatter(y_val, y_val_pred, alpha=0.5, edgecolor='k')\n",
    "plt.plot([y_val.min(), y_val.max()], [y_val.min(), y_val.max()], 'r--')\n",
    "plt.title('Valores reales vs. Valores predichos')\n",
    "plt.xlabel('Valores reales (price)')\n",
    "plt.ylabel('Valores predichos (price)')\n",
    "plt.show()\n"
   ]
  },
  {
   "cell_type": "code",
   "execution_count": 16,
   "metadata": {},
   "outputs": [
    {
     "name": "stdout",
     "output_type": "stream",
     "text": [
      "\n",
      "Variabilidad en X_train:\n",
      "surface_total                            0.985151\n",
      "surface_covered                          0.983315\n",
      "rooms                                    0.998626\n",
      "bedrooms                                 0.997779\n",
      "bathrooms                                0.995294\n",
      "lat                                      0.037484\n",
      "lon                                      0.032131\n",
      "distance_to_nearest_hospital             0.997497\n",
      "distance_to_nearest_park                 1.008884\n",
      "distance_to_nearest_transport_station    1.002662\n",
      "distance_to_financial_center             0.999337\n",
      "property_type_Casa                       0.429224\n",
      "dtype: float64\n",
      "Columnas con baja variabilidad: Index([], dtype='object')\n"
     ]
    }
   ],
   "source": [
    "# Estadísticas de las columnas de X_train\n",
    "print(\"\\nVariabilidad en X_train:\")\n",
    "print(X_train.std())\n",
    "\n",
    "# Identificar columnas con baja variabilidad\n",
    "low_variance_columns = X_train.columns[X_train.std() < 0.01]\n",
    "print(f\"Columnas con baja variabilidad: {low_variance_columns}\")\n"
   ]
  },
  {
   "cell_type": "code",
   "execution_count": 17,
   "metadata": {},
   "outputs": [
    {
     "name": "stdout",
     "output_type": "stream",
     "text": [
      "\n",
      "Distribución de y_train:\n",
      "count    3.091500e+04\n",
      "mean     6.532055e+08\n",
      "std      3.104592e+08\n",
      "min      3.000000e+08\n",
      "25%      4.150000e+08\n",
      "50%      5.550000e+08\n",
      "75%      8.000000e+08\n",
      "max      1.650000e+09\n",
      "Name: price, dtype: float64\n"
     ]
    },
    {
     "data": {
      "image/png": "[encoded data removed]",
      "text/plain": [
       "<Figure size 640x480 with 1 Axes>"
      ]
     },
     "metadata": {},
     "output_type": "display_data"
    }
   ],
   "source": [
    "# Ver distribución de y_train\n",
    "print(\"\\nDistribución de y_train:\")\n",
    "print(y_train.describe())\n",
    "\n",
    "# Histograma de y_train\n",
    "import matplotlib.pyplot as plt\n",
    "plt.hist(y_train, bins=50, edgecolor='k', alpha=0.7)\n",
    "plt.title('Distribución de y_train')\n",
    "plt.xlabel('Price')\n",
    "plt.ylabel('Frecuencia')\n",
    "plt.show()\n"
   ]
  },
  {
   "cell_type": "code",
   "execution_count": 20,
   "metadata": {},
   "outputs": [
    {
     "name": "stdout",
     "output_type": "stream",
     "text": [
      "\u001b[1m242/242\u001b[0m \u001b[32m━━━━━━━━━━━━━━━━━━━━\u001b[0m\u001b[37m\u001b[0m \u001b[1m0s\u001b[0m 1ms/step\n",
      "Red Neuronal - RMSE: 321375717.78, MAE: 241693067.71\n"
     ]
    }
   ],
   "source": [
    "from sklearn.metrics import mean_squared_error, mean_absolute_error\n",
    "import numpy as np\n",
    "\n",
    "# Predicciones en validación\n",
    "y_val_pred_log = model.predict(X_val)\n",
    "\n",
    "# Revertir de log_price a price\n",
    "y_val_pred = np.expm1(y_val_pred_log)\n",
    "y_val_original = np.expm1(y_val)\n",
    "\n",
    "# Calcular métricas\n",
    "rmse = np.sqrt(mean_squared_error(y_val_original, y_val_pred))\n",
    "mae = mean_absolute_error(y_val_original, y_val_pred)\n",
    "\n",
    "print(f\"Red Neuronal - RMSE: {rmse:.2f}, MAE: {mae:.2f}\")\n"
   ]
  },
  {
   "cell_type": "code",
   "execution_count": 22,
   "metadata": {},
   "outputs": [],
   "source": [
    "# Asegurar que test tenga las mismas columnas que train\n",
    "X_test = test[X_train.columns]\n"
   ]
  },
  {
   "cell_type": "code",
   "execution_count": 35,
   "metadata": {},
   "outputs": [
    {
     "name": "stdout",
     "output_type": "stream",
     "text": [
      "\u001b[1m322/322\u001b[0m \u001b[32m━━━━━━━━━━━━━━━━━━━━\u001b[0m\u001b[37m\u001b[0m \u001b[1m0s\u001b[0m 1ms/step\n",
      "Predicciones guardadas en 'submission.csv'\n"
     ]
    }
   ],
   "source": [
    "# Predicciones en test\n",
    "y_test_pred_log = model.predict(X_test)\n",
    "\n",
    "# Convertir de log_price a price\n",
    "test['price'] = np.expm1(y_test_pred_log)\n",
    "\n",
    "# Guardar las predicciones\n",
    "submission = test[['property_id', 'price']]\n",
    "submission.to_csv('submission_NN.csv', index=False)\n",
    "\n",
    "print(\"Predicciones guardadas en 'submission.csv'\")\n",
    "\n"
   ]
  }
 ],
 "metadata": {
  "kernelspec": {
   "display_name": "base",
   "language": "python",
   "name": "python3"
  },
  "language_info": {
   "codemirror_mode": {
    "name": "ipython",
    "version": 3
   },
   "file_extension": ".py",
   "mimetype": "text/x-python",
   "name": "python",
   "nbconvert_exporter": "python",
   "pygments_lexer": "ipython3",
   "version": "3.9.12"
  }
 },
 "nbformat": 4,
 "nbformat_minor": 2
}
